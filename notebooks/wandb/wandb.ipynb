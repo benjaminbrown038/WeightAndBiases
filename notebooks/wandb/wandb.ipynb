{
  "nbformat": 4,
  "nbformat_minor": 0,
  "metadata": {
    "colab": {
      "provenance": [],
      "authorship_tag": "ABX9TyM+g8xMFjjqasapxteT/36b",
      "include_colab_link": true
    },
    "kernelspec": {
      "name": "python3",
      "display_name": "Python 3"
    },
    "language_info": {
      "name": "python"
    }
  },
  "cells": [
    {
      "cell_type": "markdown",
      "metadata": {
        "id": "view-in-github",
        "colab_type": "text"
      },
      "source": [
        "<a href=\"https://colab.research.google.com/github/benjaminbrown038/WeightAndBiases/blob/main/notebooks/wandb/wandb.ipynb\" target=\"_parent\"><img src=\"https://colab.research.google.com/assets/colab-badge.svg\" alt=\"Open In Colab\"/></a>"
      ]
    },
    {
      "cell_type": "markdown",
      "source": [
        "# WANDB\n",
        "\n",
        "- Pytorch\n",
        "\n",
        "- Pytorch Lightning\n",
        "\n",
        "- Huggingface\n",
        "\n",
        "- Keras\n",
        "\n",
        "- XGBoost\n",
        "\n",
        "- LightGBM"
      ],
      "metadata": {
        "id": "b1S4y3T4gzTy"
      }
    },
    {
      "cell_type": "markdown",
      "source": [
        "# Pytorch"
      ],
      "metadata": {
        "id": "NlwVpB86gzkZ"
      }
    },
    {
      "cell_type": "code",
      "source": [
        "import wandb"
      ],
      "metadata": {
        "id": "TlOSqrbv40VD"
      },
      "execution_count": null,
      "outputs": []
    },
    {
      "cell_type": "code",
      "source": [
        "wandb.init(project=\"new-sota-model\")"
      ],
      "metadata": {
        "id": "AnlY8XvTgzw5"
      },
      "execution_count": null,
      "outputs": []
    },
    {
      "cell_type": "code",
      "source": [
        "wandb.config = {\"learning_rate\": 0.001, \"epochs\": 100, \"batch_size\": 128}"
      ],
      "metadata": {
        "id": "tcVA8p_d4yvF"
      },
      "execution_count": null,
      "outputs": []
    },
    {
      "cell_type": "code",
      "source": [
        "model, dataloader = get_model(), get_data()"
      ],
      "metadata": {
        "id": "sC2yntDd4yxb"
      },
      "execution_count": null,
      "outputs": []
    },
    {
      "cell_type": "code",
      "source": [
        "model"
      ],
      "metadata": {
        "id": "cg5FhnTw5ifM"
      },
      "execution_count": null,
      "outputs": []
    },
    {
      "cell_type": "code",
      "source": [
        "dataloader"
      ],
      "metadata": {
        "id": "5v4O2KtF5iiF"
      },
      "execution_count": null,
      "outputs": []
    },
    {
      "cell_type": "code",
      "source": [
        "wandb.watch(model)"
      ],
      "metadata": {
        "id": "YQjRdrJS4y0F"
      },
      "execution_count": null,
      "outputs": []
    },
    {
      "cell_type": "code",
      "source": [
        "for batch in dataloader:\n",
        "  metrics = model.training_step()\n",
        "  wandb.log(metrics)"
      ],
      "metadata": {
        "id": "MF5GxBfA4y2m"
      },
      "execution_count": null,
      "outputs": []
    },
    {
      "cell_type": "code",
      "source": [
        "model.to_onnx()"
      ],
      "metadata": {
        "id": "mmsbbL664y4y"
      },
      "execution_count": null,
      "outputs": []
    },
    {
      "cell_type": "code",
      "source": [
        "wandb.save(\"model.onnx\")"
      ],
      "metadata": {
        "id": "TdLUicm74y7D"
      },
      "execution_count": null,
      "outputs": []
    },
    {
      "cell_type": "markdown",
      "source": [
        "# Pytorch"
      ],
      "metadata": {
        "id": "C103c7haiMdM"
      }
    },
    {
      "cell_type": "code",
      "source": [
        "%%capture\n",
        "!pip3 install wandb onnx -Uq\n",
        "import os\n",
        "import random\n",
        "\n",
        "import numpy as np\n",
        "import torch\n",
        "import torch.nn as nn\n",
        "import torchvision\n",
        "import torchvision.transforms as transforms\n",
        "from tqdm.auto import tqdm"
      ],
      "metadata": {
        "id": "MRezzAtKgz8S"
      },
      "execution_count": null,
      "outputs": []
    },
    {
      "cell_type": "code",
      "source": [
        "torch.backends.cudnn.deterministic = True"
      ],
      "metadata": {
        "id": "EtX_9Hx-5K9E"
      },
      "execution_count": null,
      "outputs": []
    },
    {
      "cell_type": "code",
      "source": [
        "random.seed(hash(\"setting random seeds\") % 2**32 - 1)"
      ],
      "metadata": {
        "id": "sM5CH32i5K_9"
      },
      "execution_count": null,
      "outputs": []
    },
    {
      "cell_type": "code",
      "source": [
        "np.random.seed(hash(\"improves reproducibility\") % 2**32 - 1)"
      ],
      "metadata": {
        "id": "Q2sRbVWi5LCk"
      },
      "execution_count": null,
      "outputs": []
    },
    {
      "cell_type": "code",
      "source": [
        "torch.manual_seed(hash(\"by removing stochasticity\") % 2**32 - 1)"
      ],
      "metadata": {
        "id": "NAa6JH4t5LFd"
      },
      "execution_count": null,
      "outputs": []
    },
    {
      "cell_type": "code",
      "source": [
        "torch.cuda.manual_seed_all(hash(\"so runs are repeatable\") % 2**32 - 1)"
      ],
      "metadata": {
        "id": "7Qbn26w45LIi"
      },
      "execution_count": null,
      "outputs": []
    },
    {
      "cell_type": "code",
      "source": [
        "device = torch.device(\"cuda:0\" if torch.cuda.is_available() else \"cpu\")\n",
        "device"
      ],
      "metadata": {
        "id": "mxF54IMp5SFL"
      },
      "execution_count": null,
      "outputs": []
    },
    {
      "cell_type": "code",
      "source": [
        "torchvision.datasets.MNIST.mirrors = [mirror for mirror in torchvision.datasets.MNIST.mirrorsif not mirror.startswith(\"http://yann.lecun.com\")]"
      ],
      "metadata": {
        "id": "_wJJxK4d5SIk"
      },
      "execution_count": null,
      "outputs": []
    },
    {
      "cell_type": "code",
      "source": [
        "import wandb\n",
        "wandb.login()"
      ],
      "metadata": {
        "id": "Zjpx45Bug0QE"
      },
      "execution_count": null,
      "outputs": []
    },
    {
      "cell_type": "markdown",
      "source": [],
      "metadata": {
        "id": "S4alnWoVg0ai"
      }
    },
    {
      "cell_type": "code",
      "source": [
        "config = dict(\n",
        "    epochs=5,\n",
        "    classes=10,\n",
        "    kernels=[16, 32],\n",
        "    batch_size=128,\n",
        "    learning_rate=0.005,\n",
        "    dataset=\"MNIST\",\n",
        "    architecture=\"CNN\")"
      ],
      "metadata": {
        "id": "7e0-KdWkg0lB"
      },
      "execution_count": null,
      "outputs": []
    },
    {
      "cell_type": "markdown",
      "source": [],
      "metadata": {
        "id": "F8LT8qjmg0pz"
      }
    },
    {
      "cell_type": "code",
      "source": [
        "def model_pipeline(hyperparameters):\n",
        "    with wandb.init(project=\"pytorch-demo\", config=hyperparameters):\n",
        "      config = wandb.config\n",
        "      model, train_loader, test_loader, criterion, optimizer = make(config)\n",
        "      print(model)\n",
        "      train(model, train_loader, criterion, optimizer, config)\n",
        "      test(model, test_loader)\n",
        "    return model"
      ],
      "metadata": {
        "id": "_cuDZq1Og0uq"
      },
      "execution_count": null,
      "outputs": []
    },
    {
      "cell_type": "markdown",
      "source": [],
      "metadata": {
        "id": "XolmuVPVg086"
      }
    },
    {
      "cell_type": "code",
      "source": [
        "def make(config):\n",
        "    train, test = get_data(train=True), get_data(train=False)\n",
        "    train_loader = make_loader(train, batch_size=config.batch_size)\n",
        "    test_loader = make_loader(test, batch_size=config.batch_size)\n",
        "    model = ConvNet(config.kernels, config.classes).to(device)\n",
        "    criterion = nn.CrossEntropyLoss()\n",
        "    optimizer = torch.optim.Adam(model.parameters(), lr=config.learning_rate)\n",
        "    return model, train_loader, test_loader, criterion, optimizer"
      ],
      "metadata": {
        "id": "9kCwEjB6g1B5"
      },
      "execution_count": null,
      "outputs": []
    },
    {
      "cell_type": "markdown",
      "source": [],
      "metadata": {
        "id": "vnkVhPIag1Gp"
      }
    },
    {
      "cell_type": "code",
      "source": [
        "def get_data(slice=5, train=True):\n",
        "    full_dataset = torchvision.datasets.MNIST(root=\".\",\n",
        "                                              train=train,\n",
        "                                              transform=transforms.ToTensor(),\n",
        "                                              download=True)\n",
        "    sub_dataset = torch.utils.data.Subset(full_dataset, indices=range(0, len(full_dataset), slice))\n",
        "    return sub_dataset"
      ],
      "metadata": {
        "id": "Zqv3E3bFg1Lr"
      },
      "execution_count": null,
      "outputs": []
    },
    {
      "cell_type": "markdown",
      "source": [],
      "metadata": {
        "id": "5tJO4LBXsRy9"
      }
    },
    {
      "cell_type": "code",
      "source": [
        "def make_loader(dataset, batch_size):\n",
        "    loader = torch.utils.data.DataLoader(dataset=dataset,\n",
        "                                         batch_size=batch_size,\n",
        "                                         shuffle=True,\n",
        "                                         pin_memory=True, num_workers=2)\n",
        "    return loader"
      ],
      "metadata": {
        "id": "l2HF7FRXsPeA"
      },
      "execution_count": null,
      "outputs": []
    },
    {
      "cell_type": "markdown",
      "source": [],
      "metadata": {
        "id": "v1eZiBbxg1RS"
      }
    },
    {
      "cell_type": "code",
      "source": [
        "class ConvNet(nn.Module):\n",
        "    def __init__(self, kernels, classes=10):\n",
        "        super(ConvNet, self).__init__()\n",
        "        self.layer1 = nn.Sequential(\n",
        "            nn.Conv2d(1, kernels[0], kernel_size=5, stride=1, padding=2),\n",
        "            nn.ReLU(),\n",
        "            nn.MaxPool2d(kernel_size=2, stride=2))\n",
        "        self.layer2 = nn.Sequential(\n",
        "            nn.Conv2d(16, kernels[1], kernel_size=5, stride=1, padding=2),\n",
        "            nn.ReLU(),\n",
        "            nn.MaxPool2d(kernel_size=2, stride=2))\n",
        "        self.fc = nn.Linear(7 * 7 * kernels[-1], classes)\n",
        "    def forward(self, x):\n",
        "        out = self.layer1(x)\n",
        "        out = self.layer2(out)\n",
        "        out = out.reshape(out.size(0), -1)\n",
        "        out = self.fc(out)\n",
        "        return out"
      ],
      "metadata": {
        "id": "hBYg5fO8g10i"
      },
      "execution_count": null,
      "outputs": []
    },
    {
      "cell_type": "markdown",
      "source": [],
      "metadata": {
        "id": "LRNXbaiRg18C"
      }
    },
    {
      "cell_type": "code",
      "source": [
        "def train(model, loader, criterion, optimizer, config):\n",
        "    wandb.watch(model, criterion, log=\"all\", log_freq=10)\n",
        "    total_batches = len(loader) * config.epochs\n",
        "    example_ct = 0\n",
        "    batch_ct = 0\n",
        "    for epoch in tqdm(range(config.epochs)):\n",
        "        for _, (images, labels) in enumerate(loader):\n",
        "            loss = train_batch(images, labels, model, optimizer, criterion)\n",
        "            example_ct +=  len(images)\n",
        "            batch_ct += 1\n",
        "            if ((batch_ct + 1) % 25) == 0:\n",
        "                train_log(loss, example_ct, epoch)"
      ],
      "metadata": {
        "id": "Vq3rIUVyg2Lp"
      },
      "execution_count": null,
      "outputs": []
    },
    {
      "cell_type": "markdown",
      "source": [],
      "metadata": {
        "id": "sR9yM82tsixh"
      }
    },
    {
      "cell_type": "code",
      "source": [
        "def train_batch(images, labels, model, optimizer, criterion):\n",
        "    images, labels = images.to(device), labels.to(device)\n",
        "    outputs = model(images)\n",
        "    loss = criterion(outputs, labels)\n",
        "    optimizer.zero_grad()\n",
        "    loss.backward()\n",
        "    optimizer.step()\n",
        "    return loss"
      ],
      "metadata": {
        "id": "V0ZR0P-Isi31"
      },
      "execution_count": null,
      "outputs": []
    },
    {
      "cell_type": "markdown",
      "source": [],
      "metadata": {
        "id": "rerY4IY5g2Vx"
      }
    },
    {
      "cell_type": "code",
      "source": [
        "def train_log(loss, example_ct, epoch):\n",
        "    wandb.log({\"epoch\": epoch, \"loss\": loss}, step=example_ct)\n",
        "    print(f\"Loss after {str(example_ct).zfill(5)} examples: {loss:.3f}\")"
      ],
      "metadata": {
        "id": "4H-yrsVAg2bx"
      },
      "execution_count": null,
      "outputs": []
    },
    {
      "cell_type": "markdown",
      "source": [],
      "metadata": {
        "id": "rQPquVoWhvGc"
      }
    },
    {
      "cell_type": "code",
      "source": [
        "def test(model, test_loader):\n",
        "    model.eval()\n",
        "    with torch.no_grad():\n",
        "        correct, total = 0, 0\n",
        "        for images, labels in test_loader:\n",
        "            images, labels = images.to(device), labels.to(device)\n",
        "            outputs = model(images)\n",
        "            _, predicted = torch.max(outputs.data, 1)\n",
        "            total += labels.size(0)\n",
        "            correct += (predicted == labels).sum().item()\n",
        "        print(f\"Accuracy of the model on the {total} \" +\n",
        "              f\"test images: {correct / total:%}\")\n",
        "        wandb.log({\"test_accuracy\": correct / total})\n",
        "    torch.onnx.export(model, images, \"model.onnx\")\n",
        "    wandb.save(\"model.onnx\")"
      ],
      "metadata": {
        "id": "rVwDvlj7hvLl"
      },
      "execution_count": null,
      "outputs": []
    },
    {
      "cell_type": "markdown",
      "source": [],
      "metadata": {
        "id": "DSWyJ8XGhvQ3"
      }
    },
    {
      "cell_type": "code",
      "source": [
        "model = model_pipeline(config)\n",
        "model"
      ],
      "metadata": {
        "id": "JKcMxLLlhvWE"
      },
      "execution_count": null,
      "outputs": []
    },
    {
      "cell_type": "markdown",
      "source": [
        "## Pytorch Lightning"
      ],
      "metadata": {
        "id": "HPbLJcPkhvak"
      }
    },
    {
      "cell_type": "markdown",
      "source": [],
      "metadata": {
        "id": "LkVEmjzHtZI5"
      }
    },
    {
      "cell_type": "code",
      "source": [
        "%%capture\n",
        "!pip3 install pytorch-lightning -q\n",
        "!pip3 install wandb -qU"
      ],
      "metadata": {
        "id": "_53G9bZdhvgd"
      },
      "execution_count": null,
      "outputs": []
    },
    {
      "cell_type": "code",
      "source": [
        "%%capture\n",
        "!pip3 install pytorch-lightning -q\n",
        "!pip3 install wandb -qU\n",
        "import pytorch_lightning as pl\n",
        "from pytorch_lightning.loggers import WandbLogger\n",
        "\n",
        "import torch\n",
        "from torch import nn\n",
        "from torch.nn import functional as F\n",
        "from torch.utils.data import random_split, DataLoader\n",
        "\n",
        "from torchmetrics import Accuracy\n",
        "\n",
        "from torchvision import transforms\n",
        "from torchvision.datasets import CIFAR10\n",
        "\n",
        "import wandb"
      ],
      "metadata": {
        "id": "9acguPeMhvp4"
      },
      "execution_count": null,
      "outputs": []
    },
    {
      "cell_type": "code",
      "source": [
        "wandb.login()"
      ],
      "metadata": {
        "id": "XZac_gbGhvzE"
      },
      "execution_count": null,
      "outputs": []
    },
    {
      "cell_type": "code",
      "source": [
        "class CIFAR10DataModule(pl.LightningDataModule):\n",
        "    def __init__(self, batch_size, data_dir: str = './'):\n",
        "        super().__init__()\n",
        "        self.data_dir = data_dir\n",
        "        self.batch_size = batch_size\n",
        "        self.transform = transforms.Compose([transforms.ToTensor(),transforms.Normalize((0.5, 0.5, 0.5), (0.5, 0.5, 0.5))])\n",
        "        self.num_classes = 10\n",
        "    def prepare_data(self):\n",
        "        CIFAR10(self.data_dir, train=True, download=True)\n",
        "        CIFAR10(self.data_dir, train=False, download=True)\n",
        "    def setup(self, stage=None):\n",
        "        if stage == 'fit' or stage is None:\n",
        "            cifar_full = CIFAR10(self.data_dir, train=True, transform=self.transform)\n",
        "            self.cifar_train, self.cifar_val = random_split(cifar_full, [45000, 5000])\n",
        "        if stage == 'test' or stage is None:\n",
        "            self.cifar_test = CIFAR10(self.data_dir, train=False, transform=self.transform)\n",
        "    def train_dataloader(self):\n",
        "        return DataLoader(self.cifar_train, batch_size=self.batch_size, shuffle=True)\n",
        "    def val_dataloader(self):\n",
        "        return DataLoader(self.cifar_val, batch_size=self.batch_size)\n",
        "    def test_dataloader(self):\n",
        "        return DataLoader(self.cifar_test, batch_size=self.batch_size)\n",
        "class ImagePredictionLogger(pl.callbacks.Callback):\n",
        "    def __init__(self, val_samples, num_samples=32):\n",
        "        super().__init__()\n",
        "        self.num_samples = num_samples\n",
        "        self.val_imgs, self.val_labels = val_samples\n",
        "    def on_validation_epoch_end(self, trainer, pl_module):\n",
        "        val_imgs = self.val_imgs.to(device=pl_module.device)\n",
        "        val_labels = self.val_labels.to(device=pl_module.device)\n",
        "        logits = pl_module(val_imgs)\n",
        "        preds = torch.argmax(logits, -1)\n",
        "        trainer.logger.experiment.log({\n",
        "            \"examples\":[wandb.Image(x, caption=f\"Pred:{pred}, Label:{y}\")\n",
        "                           for x, pred, y in zip(val_imgs[:self.num_samples],\n",
        "                                                 preds[:self.num_samples],\n",
        "                                                 val_labels[:self.num_samples])]})\n",
        "class LitModel(pl.LightningModule):\n",
        "    def __init__(self, input_shape, num_classes, learning_rate=2e-4):\n",
        "        super().__init__()\n",
        "        self.save_hyperparameters()\n",
        "        self.learning_rate = learning_rate\n",
        "        self.conv1 = nn.Conv2d(3, 32, 3, 1)\n",
        "        self.conv2 = nn.Conv2d(32, 32, 3, 1)\n",
        "        self.conv3 = nn.Conv2d(32, 64, 3, 1)\n",
        "        self.conv4 = nn.Conv2d(64, 64, 3, 1)\n",
        "        self.pool1 = torch.nn.MaxPool2d(2)\n",
        "        self.pool2 = torch.nn.MaxPool2d(2)\n",
        "        n_sizes = self._get_conv_output(input_shape)\n",
        "        self.fc1 = nn.Linear(n_sizes, 512)\n",
        "        self.fc2 = nn.Linear(512, 128)\n",
        "        self.fc3 = nn.Linear(128, num_classes)\n",
        "        self.accuracy = Accuracy(task='multiclass', num_classes=num_classes)\n",
        "    def _get_conv_output(self, shape):\n",
        "        batch_size = 1\n",
        "        input = torch.autograd.Variable(torch.rand(batch_size, *shape))\n",
        "        output_feat = self._forward_features(input)\n",
        "        n_size = output_feat.data.view(batch_size, -1).size(1)\n",
        "        return n_size\n",
        "    def _forward_features(self, x):\n",
        "        x = F.relu(self.conv1(x))\n",
        "        x = self.pool1(F.relu(self.conv2(x)))\n",
        "        x = F.relu(self.conv3(x))\n",
        "        x = self.pool2(F.relu(self.conv4(x)))\n",
        "        return x\n",
        "    def forward(self, x):\n",
        "       x = self._forward_features(x)\n",
        "       x = x.view(x.size(0), -1)\n",
        "       x = F.relu(self.fc1(x))\n",
        "       x = F.relu(self.fc2(x))\n",
        "       x = F.log_softmax(self.fc3(x), dim=1)\n",
        "       return x\n",
        "    def training_step(self, batch, batch_idx):\n",
        "        x, y = batch\n",
        "        logits = self(x)\n",
        "        loss = F.nll_loss(logits, y)\n",
        "        preds = torch.argmax(logits, dim=1)\n",
        "        acc = self.accuracy(preds, y)\n",
        "        self.log('train_loss', loss, on_step=True, on_epoch=True, logger=True)\n",
        "        self.log('train_acc', acc, on_step=True, on_epoch=True, logger=True)\n",
        "        return loss\n",
        "    def validation_step(self, batch, batch_idx):\n",
        "        x, y = batch\n",
        "        logits = self(x)\n",
        "        loss = F.nll_loss(logits, y)\n",
        "        preds = torch.argmax(logits, dim=1)\n",
        "        acc = self.accuracy(preds, y)\n",
        "        self.log('val_loss', loss, prog_bar=True)\n",
        "        self.log('val_acc', acc, prog_bar=True)\n",
        "        return loss\n",
        "    def test_step(self, batch, batch_idx):\n",
        "        x, y = batch\n",
        "        logits = self(x)\n",
        "        loss = F.nll_loss(logits, y)\n",
        "        preds = torch.argmax(logits, dim=1)\n",
        "        acc = self.accuracy(preds, y)\n",
        "        self.log('test_loss', loss, prog_bar=True)\n",
        "        self.log('test_acc', acc, prog_bar=True)\n",
        "        return loss\n",
        "    def configure_optimizers(self):\n",
        "        optimizer = torch.optim.Adam(self.parameters(), lr=self.learning_rate)\n",
        "        return optimizer"
      ],
      "metadata": {
        "id": "8IBKEloPhv89"
      },
      "execution_count": null,
      "outputs": []
    },
    {
      "cell_type": "code",
      "source": [
        "dm = CIFAR10DataModule(batch_size=32)\n",
        "dm"
      ],
      "metadata": {
        "id": "QQhsu4QKiZ0f"
      },
      "execution_count": null,
      "outputs": []
    },
    {
      "cell_type": "code",
      "source": [
        "dm.prepare_data()"
      ],
      "metadata": {
        "id": "a-Mwo9GOuUb5"
      },
      "execution_count": null,
      "outputs": []
    },
    {
      "cell_type": "code",
      "source": [
        "dm.setup()"
      ],
      "metadata": {
        "id": "_N0drom2uUli"
      },
      "execution_count": null,
      "outputs": []
    },
    {
      "cell_type": "code",
      "source": [
        "val_samples = next(iter(dm.val_dataloader()))\n",
        "val_samples"
      ],
      "metadata": {
        "id": "AW3mu4TPuUvC"
      },
      "execution_count": null,
      "outputs": []
    },
    {
      "cell_type": "code",
      "source": [
        "val_imgs, val_labels = val_samples[0], val_samples[1]\n",
        "val_imgs"
      ],
      "metadata": {
        "id": "WUK_SfM1uU3h"
      },
      "execution_count": null,
      "outputs": []
    },
    {
      "cell_type": "code",
      "source": [
        "val_labels"
      ],
      "metadata": {
        "id": "2MgL82bFunUY"
      },
      "execution_count": null,
      "outputs": []
    },
    {
      "cell_type": "code",
      "source": [
        "val_imgs.shape"
      ],
      "metadata": {
        "id": "VovtY348uVAs"
      },
      "execution_count": null,
      "outputs": []
    },
    {
      "cell_type": "code",
      "source": [
        "val_labels.shape"
      ],
      "metadata": {
        "id": "f8aIltI1uyUK"
      },
      "execution_count": null,
      "outputs": []
    },
    {
      "cell_type": "code",
      "source": [
        "model = LitModel((3, 32, 32), dm.num_classes)\n",
        "model"
      ],
      "metadata": {
        "id": "mbgnWZTNiZ_m"
      },
      "execution_count": null,
      "outputs": []
    },
    {
      "cell_type": "code",
      "source": [
        "wandb_logger = WandbLogger(project='wandb-lightning', job_type='train')\n",
        "wandb_logger"
      ],
      "metadata": {
        "id": "z97LPvVNu2Q5"
      },
      "execution_count": null,
      "outputs": []
    },
    {
      "cell_type": "code",
      "source": [
        "early_stop_callback = pl.callbacks.EarlyStopping(monitor=\"val_loss\")\n",
        "early_stop_callback"
      ],
      "metadata": {
        "id": "cLxZpRK5u2Ts"
      },
      "execution_count": null,
      "outputs": []
    },
    {
      "cell_type": "code",
      "source": [
        "checkpoint_callback = pl.callbacks.ModelCheckpoint()\n",
        "checkpoint_callback"
      ],
      "metadata": {
        "id": "ixaBVmbTu2WK"
      },
      "execution_count": null,
      "outputs": []
    },
    {
      "cell_type": "code",
      "source": [
        "trainer = pl.Trainer(max_epochs=2,\n",
        "                     logger=wandb_logger,\n",
        "                     callbacks=[early_stop_callback,ImagePredictionLogger(val_samples),checkpoint_callback])\n",
        "trainer"
      ],
      "metadata": {
        "id": "cxXqRnGfu2Y5"
      },
      "execution_count": null,
      "outputs": []
    },
    {
      "cell_type": "code",
      "source": [
        "trainer.fit(model, dm)"
      ],
      "metadata": {
        "id": "-PxpMkFru2by"
      },
      "execution_count": null,
      "outputs": []
    },
    {
      "cell_type": "code",
      "source": [
        "trainer.test(dataloaders=dm.test_dataloader())"
      ],
      "metadata": {
        "id": "VWCuEXcCu2ej"
      },
      "execution_count": null,
      "outputs": []
    },
    {
      "cell_type": "code",
      "source": [
        "wandb.finish()"
      ],
      "metadata": {
        "id": "CHCdhyW2u2hS"
      },
      "execution_count": null,
      "outputs": []
    },
    {
      "cell_type": "markdown",
      "source": [
        "# Huggingface"
      ],
      "metadata": {
        "id": "7J3jw9ztiaPO"
      }
    },
    {
      "cell_type": "code",
      "source": [
        "%%capture\n",
        "!pip3 install datasets wandb evaluate accelerate -qU\n",
        "!pip3 install -q git+https://github.com/huggingface/transformers\n",
        "!wget https://raw.githubusercontent.com/huggingface/transformers/master/examples/pytorch/text-classification/run_glue.py\n",
        "!pip3 install wandb"
      ],
      "metadata": {
        "id": "o22jrvbHir24"
      },
      "execution_count": null,
      "outputs": []
    },
    {
      "cell_type": "code",
      "source": [
        "%%capture\n",
        "import wandb\n",
        "from transformers import TrainingArguments, Trainer\n",
        "import os\n",
        "from transformers.integrations import WandbCallback\n",
        "import pandas as pd"
      ],
      "metadata": {
        "id": "868gnm2iivxl"
      },
      "execution_count": null,
      "outputs": []
    },
    {
      "cell_type": "code",
      "source": [
        "wandb.login()"
      ],
      "metadata": {
        "id": "QB6DIYZ7iv_g"
      },
      "execution_count": null,
      "outputs": []
    },
    {
      "cell_type": "code",
      "source": [
        "%env WANDB_WATCH=all\n",
        "%env WANDB_PROJECT=huggingface-demo\n",
        "%env TASK_NAME=MRPC\n",
        "\n",
        "!python run_glue.py \\\n",
        "  --model_name_or_path bert-base-uncased \\\n",
        "  --task_name $TASK_NAME \\\n",
        "  --do_train \\\n",
        "  --do_eval \\\n",
        "  --max_seq_length 256 \\\n",
        "  --per_device_train_batch_size 32 \\\n",
        "  --learning_rate 2e-4 \\\n",
        "  --num_train_epochs 3 \\\n",
        "  --output_dir /tmp/$TASK_NAME/ \\\n",
        "  --overwrite_output_dir \\\n",
        "  --logging_steps 50"
      ],
      "metadata": {
        "id": "dHLo8djZiwV3"
      },
      "execution_count": null,
      "outputs": []
    },
    {
      "cell_type": "code",
      "source": [
        "os.environ[\"WANDB_PROJECT\"] = \"<my-amazing-project>\""
      ],
      "metadata": {
        "id": "oAmjdytVv9g6"
      },
      "execution_count": null,
      "outputs": []
    },
    {
      "cell_type": "code",
      "source": [
        "os.environ[\"WANDB_LOG_MODEL\"] = \"checkpoint\""
      ],
      "metadata": {
        "id": "IliPtXGhqcZM"
      },
      "execution_count": null,
      "outputs": []
    },
    {
      "cell_type": "code",
      "source": [
        "args = TrainingArguments(report_to=\"wandb\")\n",
        "args"
      ],
      "metadata": {
        "id": "BEnJtiZ_6AH2"
      },
      "execution_count": null,
      "outputs": []
    },
    {
      "cell_type": "code",
      "source": [
        "trainer = Trainer(..., args=args)\n",
        "trainer"
      ],
      "metadata": {
        "id": "iW9xVbxI6AKf"
      },
      "execution_count": null,
      "outputs": []
    },
    {
      "cell_type": "code",
      "source": [
        "os.environ[\"WANDB_PROJECT\"]=\"amazon_sentiment_analysis\""
      ],
      "metadata": {
        "id": "oX24ms1Lv9m9"
      },
      "execution_count": null,
      "outputs": []
    },
    {
      "cell_type": "code",
      "source": [
        "args = TrainingArguments(\n",
        "    report_to=\"wandb\",\n",
        "    run_name=\"bert-base-high-lr\",\n",
        "    logging_steps=1)\n",
        "args"
      ],
      "metadata": {
        "id": "5McIatM36OVt"
      },
      "execution_count": null,
      "outputs": []
    },
    {
      "cell_type": "code",
      "source": [
        "trainer = Trainer(\n",
        "    args=args)\n",
        "trainer"
      ],
      "metadata": {
        "id": "5B-JnAWU6OYX"
      },
      "execution_count": null,
      "outputs": []
    },
    {
      "cell_type": "code",
      "source": [
        "trainer.train()"
      ],
      "metadata": {
        "id": "25aTVB9B7IKV"
      },
      "execution_count": null,
      "outputs": []
    },
    {
      "cell_type": "code",
      "source": [
        "os.environ[\"WANDB_LOG_MODEL\"] = \"checkpoint\""
      ],
      "metadata": {
        "id": "HNY21k2Sv9s1"
      },
      "execution_count": null,
      "outputs": []
    },
    {
      "cell_type": "code",
      "source": [
        "trainer.train()"
      ],
      "metadata": {
        "id": "Czzed9iYv9v7"
      },
      "execution_count": null,
      "outputs": []
    },
    {
      "cell_type": "code",
      "source": [
        "wandb.finish()"
      ],
      "metadata": {
        "id": "4uizBj087vpg"
      },
      "execution_count": null,
      "outputs": []
    },
    {
      "cell_type": "code",
      "source": [
        "with wandb.init(project=\"amazon_sentiment_analysis\") as run:\n",
        "    my_model_name = \"model-bert-base-high-lr:latest\"\n",
        "    my_model_artifact = run.use_artifact(my_model_name)\n",
        "    model_dir = my_model_artifact.download()\n",
        "    model = AutoModelForSequenceClassification.from_pretrained(model_dir, num_labels=num_labels)"
      ],
      "metadata": {
        "id": "U_mFhItBv9yg"
      },
      "execution_count": null,
      "outputs": []
    },
    {
      "cell_type": "code",
      "source": [
        "trainer.train()"
      ],
      "metadata": {
        "id": "5H8eSaSa7pbG"
      },
      "execution_count": null,
      "outputs": []
    },
    {
      "cell_type": "code",
      "source": [
        "with wandb.init(\n",
        "    project=os.environ[\"WANDB_PROJECT\"],\n",
        "    id=last_run_id,\n",
        "    resume=\"must\")\n",
        "    as run:\n",
        "    my_checkpoint_name = f\"checkpoint-{last_run_id}:latest\"\n",
        "    my_checkpoint_artifact = run.use_artifact(my_model_name)\n",
        "    checkpoint_dir = my_checkpoint_artifact.download()\n",
        "    model = AutoModelForSequenceClassification.from_pretrained(\"<model_name>\", num_labels=num_labels)\n",
        "    training_args = TrainingArguments()\n",
        "    trainer = Trainer(model=model, args=training_args)\n",
        "    trainer.train(resume_from_checkpoint=checkpoint_dir)"
      ],
      "metadata": {
        "id": "IKUusKPGv91b"
      },
      "execution_count": null,
      "outputs": []
    },
    {
      "cell_type": "code",
      "source": [
        "trainer = Trainer()\n",
        "trainer"
      ],
      "metadata": {
        "id": "cCXaH1SdwIPk"
      },
      "execution_count": null,
      "outputs": []
    },
    {
      "cell_type": "code",
      "source": [
        "evals_callback = WandbEvalsCallback(trainer, tokenizer)\n",
        "evals_callback"
      ],
      "metadata": {
        "id": "mSpXg0AW73se"
      },
      "execution_count": null,
      "outputs": []
    },
    {
      "cell_type": "code",
      "source": [
        "trainer.add_callback(evals_callback)"
      ],
      "metadata": {
        "id": "xjS_n8PP73xR"
      },
      "execution_count": null,
      "outputs": []
    },
    {
      "cell_type": "code",
      "source": [
        "trainer.train()"
      ],
      "metadata": {
        "id": "3OcgPQK573zH"
      },
      "execution_count": null,
      "outputs": []
    },
    {
      "cell_type": "code",
      "source": [
        "def decode_predictions(tokenizer, predictions):\n",
        "    labels = tokenizer.batch_decode(predictions.label_ids)\n",
        "    prediction_text = tokenizer.batch_decode(predictions.predictions.argmax(axis=-1))\n",
        "    return {\"labels\": labels, \"predictions\": prediction_text}"
      ],
      "metadata": {
        "id": "S6AZlwuTwIS-"
      },
      "execution_count": null,
      "outputs": []
    },
    {
      "cell_type": "code",
      "source": [
        "class WandbPredictionProgressCallback(WandbCallback):\n",
        "    def __init__(self, trainer, tokenizer, val_dataset, num_samples=100, freq=2):\n",
        "        super().__init__()\n",
        "        self.trainer = trainer\n",
        "        self.tokenizer = tokenizer\n",
        "        self.sample_dataset = val_dataset.select(range(num_samples))\n",
        "        self.freq = freq\n",
        "    def on_evaluate(self, args, state, control, **kwargs):\n",
        "        super().on_evaluate(args, state, control, **kwargs)\n",
        "        if state.epoch % self.freq == 0:\n",
        "            predictions = self.trainer.predict(self.sample_dataset)\n",
        "            predictions = decode_predictions(self.tokenizer, predictions)\n",
        "            predictions_df = pd.DataFrame(predictions)\n",
        "            predictions_df[\"epoch\"] = state.epoch\n",
        "            records_table = self._wandb.Table(dataframe=predictions_df\n",
        "            self._wandb.log({\"sample_predictions\": records_table})"
      ],
      "metadata": {
        "id": "lhqwhWg58lZD"
      },
      "execution_count": null,
      "outputs": []
    },
    {
      "cell_type": "code",
      "source": [
        "trainer = Trainer(\n",
        "    model=model,\n",
        "    args=training_args,\n",
        "    train_dataset=lm_datasets[\"train\"],\n",
        "    eval_dataset=lm_datasets[\"validation\"])\n",
        "trainer"
      ],
      "metadata": {
        "id": "hxpiZUaM8Rh-"
      },
      "execution_count": null,
      "outputs": []
    },
    {
      "cell_type": "code",
      "source": [
        "progress_callback = WandbPredictionProgressCallback(\n",
        "    trainer=trainer,\n",
        "    tokenizer=tokenizer,\n",
        "    val_dataset=lm_dataset[\"validation\"],\n",
        "    num_samples=10,\n",
        "    freq=2)\n",
        "progress_callback"
      ],
      "metadata": {
        "id": "HMATa5lV8TVv"
      },
      "execution_count": null,
      "outputs": []
    },
    {
      "cell_type": "code",
      "source": [
        "trainer.add_callback(progress_callback)"
      ],
      "metadata": {
        "id": "PAxG__ND8Thm"
      },
      "execution_count": null,
      "outputs": []
    },
    {
      "cell_type": "code",
      "source": [
        "WANDB_WATCH=all"
      ],
      "metadata": {
        "id": "hB4sKENowIV6"
      },
      "execution_count": null,
      "outputs": []
    },
    {
      "cell_type": "code",
      "source": [
        "WANDB_SILENT=true"
      ],
      "metadata": {
        "id": "AdUfvbzvqoT8"
      },
      "execution_count": null,
      "outputs": []
    },
    {
      "cell_type": "code",
      "source": [
        "wandb.init(\n",
        "    project=\"amazon_sentiment_analysis\",\n",
        "    name=\"bert-base-high-lr\",\n",
        "    tags=[\"baseline\", \"high-lr\"],\n",
        "    group=\"bert\")"
      ],
      "metadata": {
        "id": "SxBs8Us2wIYy"
      },
      "execution_count": null,
      "outputs": []
    },
    {
      "cell_type": "markdown",
      "source": [
        "# Tensorflow"
      ],
      "metadata": {
        "id": "8gsFygShj2ew"
      }
    },
    {
      "cell_type": "code",
      "source": [
        "%%capture\n",
        "!pip install wandb\n",
        "import tensorflow as tf\n",
        "from tensorflow import keras\n",
        "from tensorflow.keras.datasets import cifar10\n",
        "\n",
        "import os\n",
        "import numpy as np\n",
        "import pandas as pd\n",
        "import matplotlib.pyplot as plt\n",
        "\n",
        "import wandb\n",
        "from wandb.keras import WandbCallback"
      ],
      "metadata": {
        "id": "ARvzmTEYj2pI"
      },
      "execution_count": null,
      "outputs": []
    },
    {
      "cell_type": "code",
      "source": [
        "wandb.login()"
      ],
      "metadata": {
        "id": "ZHYXz9fKkjsC"
      },
      "execution_count": null,
      "outputs": []
    },
    {
      "cell_type": "code",
      "source": [
        "BATCH_SIZE = 64\n",
        "BATCH_SIZE"
      ],
      "metadata": {
        "id": "zrLZHT-Ekj4s"
      },
      "execution_count": null,
      "outputs": []
    },
    {
      "cell_type": "code",
      "source": [
        "(x_train, y_train), (x_test, y_test) = keras.datasets.mnist.load_data()\n",
        "x_train"
      ],
      "metadata": {
        "id": "Mi3C6ftS8yae"
      },
      "execution_count": null,
      "outputs": []
    },
    {
      "cell_type": "code",
      "source": [
        "x_train = np.reshape(x_train, (-1, 784))\n",
        "x_train"
      ],
      "metadata": {
        "id": "mgKYjZQ98ydL"
      },
      "execution_count": null,
      "outputs": []
    },
    {
      "cell_type": "code",
      "source": [
        "x_test = np.reshape(x_test, (-1, 784))\n",
        "x_test"
      ],
      "metadata": {
        "id": "FA72ZPJ48yf1"
      },
      "execution_count": null,
      "outputs": []
    },
    {
      "cell_type": "code",
      "source": [
        "train_dataset = tf.data.Dataset.from_tensor_slices((x_train, y_train))\n",
        "train_dataset"
      ],
      "metadata": {
        "id": "XZkD-e8P8yhu"
      },
      "execution_count": null,
      "outputs": []
    },
    {
      "cell_type": "code",
      "source": [
        "train_dataset = train_dataset.shuffle(buffer_size=1024).batch(BATCH_SIZE)\n",
        "train_dataset"
      ],
      "metadata": {
        "id": "GvG25Be584LH"
      },
      "execution_count": null,
      "outputs": []
    },
    {
      "cell_type": "code",
      "source": [
        "val_dataset = tf.data.Dataset.from_tensor_slices((x_test, y_test))\n",
        "val_dataset"
      ],
      "metadata": {
        "id": "kHEKXOjv84N6"
      },
      "execution_count": null,
      "outputs": []
    },
    {
      "cell_type": "code",
      "source": [
        "val_dataset = val_dataset.batch(BATCH_SIZE)\n",
        "val_dataset"
      ],
      "metadata": {
        "id": "8GRwkCYf85sv"
      },
      "execution_count": null,
      "outputs": []
    },
    {
      "cell_type": "code",
      "source": [
        "def make_model():\n",
        "    inputs = keras.Input(shape=(784,), name=\"digits\")\n",
        "    x1 = keras.layers.Dense(64, activation=\"relu\")(inputs)\n",
        "    x2 = keras.layers.Dense(64, activation=\"relu\")(x1)\n",
        "    outputs = keras.layers.Dense(10, name=\"predictions\")(x2)\n",
        "    return keras.Model(inputs=inputs, outputs=outputs)"
      ],
      "metadata": {
        "id": "1Yf-mRstkkCh"
      },
      "execution_count": null,
      "outputs": []
    },
    {
      "cell_type": "code",
      "source": [
        "def train_step(x, y, model, optimizer, loss_fn, train_acc_metric):\n",
        "    with tf.GradientTape() as tape:\n",
        "        logits = model(x, training=True)\n",
        "        loss_value = loss_fn(y, logits)\n",
        "    grads = tape.gradient(loss_value, model.trainable_weights)\n",
        "    optimizer.apply_gradients(zip(grads, model.trainable_weights))\n",
        "    train_acc_metric.update_state(y, logits)\n",
        "    return loss_value"
      ],
      "metadata": {
        "id": "123o_YJnkkMS"
      },
      "execution_count": null,
      "outputs": []
    },
    {
      "cell_type": "code",
      "source": [
        "def test_step(x, y, model, loss_fn, val_acc_metric):\n",
        "    val_logits = model(x, training=False)\n",
        "    loss_value = loss_fn(y, val_logits)\n",
        "    val_acc_metric.update_state(y, val_logits)\n",
        "    return loss_value"
      ],
      "metadata": {
        "id": "dE0P_mP6kkVi"
      },
      "execution_count": null,
      "outputs": []
    },
    {
      "cell_type": "code",
      "source": [
        "def train(train_dataset, val_dataset,  model, optimizer,\n",
        "          train_acc_metric, val_acc_metric,\n",
        "          epochs=10,  log_step=200, val_log_step=50):\n",
        "    for epoch in range(epochs):\n",
        "        print(\"\\nStart of epoch %d\" % (epoch,))\n",
        "        train_loss = []\n",
        "        val_loss = []\n",
        "        for step, (x_batch_train, y_batch_train) in enumerate(train_dataset):\n",
        "            loss_value = train_step(x_batch_train, y_batch_train,\n",
        "                                    model, optimizer,\n",
        "                                    loss_fn, train_acc_metric)\n",
        "            train_loss.append(float(loss_value))\n",
        "        for step, (x_batch_val, y_batch_val) in enumerate(val_dataset):\n",
        "            val_loss_value = test_step(x_batch_val, y_batch_val,\n",
        "                                       model, loss_fn,\n",
        "                                       val_acc_metric)\n",
        "            val_loss.append(float(val_loss_value))\n",
        "        train_acc = train_acc_metric.result()\n",
        "        print(\"Training acc over epoch: %.4f\" % (float(train_acc),))\n",
        "\n",
        "        val_acc = val_acc_metric.result()\n",
        "        print(\"Validation acc: %.4f\" % (float(val_acc),))\n",
        "        train_acc_metric.reset_states()\n",
        "        val_acc_metric.reset_states()\n",
        "        wandb.log({'epochs': epoch,\n",
        "                   'loss': np.mean(train_loss),\n",
        "                   'acc': float(train_acc),\n",
        "                   'val_loss': np.mean(val_loss),\n",
        "                   'val_acc':float(val_acc)})"
      ],
      "metadata": {
        "id": "pCBVeQubkkfR"
      },
      "execution_count": null,
      "outputs": []
    },
    {
      "cell_type": "code",
      "source": [
        "config =  {\"learning_rate\": 0.001,\n",
        "              \"epochs\": 10,\n",
        "              \"batch_size\": 64,\n",
        "              \"log_step\": 200,\n",
        "              \"val_log_step\": 50,\n",
        "              \"architecture\": \"CNN\",\n",
        "              \"dataset\": \"CIFAR-10\"}\n",
        "config"
      ],
      "metadata": {
        "id": "NdPYExVTj20C"
      },
      "execution_count": null,
      "outputs": []
    },
    {
      "cell_type": "code",
      "source": [
        "run = wandb.init(project='my-tf-integration', config=config)\n",
        "run"
      ],
      "metadata": {
        "id": "lAFBm1QB9otS"
      },
      "execution_count": null,
      "outputs": []
    },
    {
      "cell_type": "code",
      "source": [
        "config = wandb.config\n",
        "config"
      ],
      "metadata": {
        "id": "4yrcIH4H9ov_"
      },
      "execution_count": null,
      "outputs": []
    },
    {
      "cell_type": "code",
      "source": [
        "model = make_model()\n",
        "model"
      ],
      "metadata": {
        "id": "ku-KgUIe9oyo"
      },
      "execution_count": null,
      "outputs": []
    },
    {
      "cell_type": "code",
      "source": [
        "optimizer = keras.optimizers.SGD(learning_rate=config.learning_rate)\n",
        "optimizer"
      ],
      "metadata": {
        "id": "Q5J2g1jP9o1I"
      },
      "execution_count": null,
      "outputs": []
    },
    {
      "cell_type": "code",
      "source": [
        "loss_fn = keras.losses.SparseCategoricalCrossentropy(from_logits=True)\n",
        "loss_fn"
      ],
      "metadata": {
        "id": "W0gMPFwD9o3b"
      },
      "execution_count": null,
      "outputs": []
    },
    {
      "cell_type": "code",
      "source": [
        "train_acc_metric = keras.metrics.SparseCategoricalAccuracy()\n",
        "train_acc_metric"
      ],
      "metadata": {
        "id": "UVw44Wv59o56"
      },
      "execution_count": null,
      "outputs": []
    },
    {
      "cell_type": "code",
      "source": [
        "val_acc_metric = keras.metrics.SparseCategoricalAccuracy()\n",
        "val_acc_metric"
      ],
      "metadata": {
        "id": "3vQq7OOM9x3Y"
      },
      "execution_count": null,
      "outputs": []
    },
    {
      "cell_type": "code",
      "source": [
        "train(train_dataset,\n",
        "      val_dataset,\n",
        "      model,\n",
        "      optimizer,\n",
        "      train_acc_metric,\n",
        "      val_acc_metric,\n",
        "      epochs=config.epochs,\n",
        "      log_step=config.log_step,\n",
        "      val_log_step=config.val_log_step)"
      ],
      "metadata": {
        "id": "AHKcf-J59x6C"
      },
      "execution_count": null,
      "outputs": []
    },
    {
      "cell_type": "code",
      "source": [
        "run.finish()"
      ],
      "metadata": {
        "id": "ft_OBlhd9x8O"
      },
      "execution_count": null,
      "outputs": []
    },
    {
      "cell_type": "markdown",
      "source": [
        "# Keras"
      ],
      "metadata": {
        "id": "UE7qucOfj3Eg"
      }
    },
    {
      "cell_type": "code",
      "source": [
        "%%capture\n",
        "!pip3 install -qq -U wandb\n",
        "import os\n",
        "import tensorflow as tf\n",
        "from tensorflow.keras import layers\n",
        "from tensorflow.keras import models\n",
        "import tensorflow_datasets as tfds\n",
        "\n",
        "import wandb\n",
        "from wandb.keras import WandbMetricsLogger"
      ],
      "metadata": {
        "id": "n72rujV1k9SE"
      },
      "execution_count": null,
      "outputs": []
    },
    {
      "cell_type": "code",
      "source": [
        "wandb.login()"
      ],
      "metadata": {
        "id": "WnoEmxvjk9kU"
      },
      "execution_count": null,
      "outputs": []
    },
    {
      "cell_type": "code",
      "source": [
        "configs = dict(\n",
        "    num_classes = 10,\n",
        "    shuffle_buffer = 1024,\n",
        "    batch_size = 64,\n",
        "    image_size = 28,\n",
        "    image_channels = 1,\n",
        "    earlystopping_patience = 3,\n",
        "    learning_rate = 1e-3,\n",
        "    epochs = 10)\n",
        "configs"
      ],
      "metadata": {
        "id": "itJvirh8k9uM"
      },
      "execution_count": null,
      "outputs": []
    },
    {
      "cell_type": "code",
      "source": [
        "train_ds, valid_ds = tfds.load('fashion_mnist', split=['train', 'test'])"
      ],
      "metadata": {
        "id": "jwU-0yCOk928"
      },
      "execution_count": null,
      "outputs": []
    },
    {
      "cell_type": "code",
      "source": [
        "train_ds"
      ],
      "metadata": {
        "id": "aLuWY4_P-gSR"
      },
      "execution_count": null,
      "outputs": []
    },
    {
      "cell_type": "code",
      "source": [
        "valid_ds"
      ],
      "metadata": {
        "id": "m19zr8gR-gVw"
      },
      "execution_count": null,
      "outputs": []
    },
    {
      "cell_type": "code",
      "source": [
        "AUTOTUNE = tf.data.AUTOTUNE\n",
        "AUTOTUNE"
      ],
      "metadata": {
        "id": "L9R08Kyqk-AR"
      },
      "execution_count": null,
      "outputs": []
    },
    {
      "cell_type": "code",
      "source": [
        "def parse_data(example):\n",
        "    image = example[\"image\"]\n",
        "    label = example[\"label\"]\n",
        "    label = tf.one_hot(label, depth=configs[\"num_classes\"])\n",
        "    return image, label"
      ],
      "metadata": {
        "id": "PhEzWgGD-n_w"
      },
      "execution_count": null,
      "outputs": []
    },
    {
      "cell_type": "code",
      "source": [
        "def get_dataloader(ds, configs, dataloader_type=\"train\"):\n",
        "    dataloader = ds.map(parse_data, num_parallel_calls=AUTOTUNE)\n",
        "    if dataloader_type==\"train\":\n",
        "        dataloader = dataloader.shuffle(configs[\"shuffle_buffer\"])\n",
        "    dataloader = (\n",
        "        dataloader\n",
        "        .batch(configs[\"batch_size\"])\n",
        "        .prefetch(AUTOTUNE))\n",
        "    return dataloader"
      ],
      "metadata": {
        "id": "6fyyHIHZ-oCR"
      },
      "execution_count": null,
      "outputs": []
    },
    {
      "cell_type": "code",
      "source": [
        "trainloader = get_dataloader(train_ds, configs)\n",
        "trainloader"
      ],
      "metadata": {
        "id": "ErKPV84L-oFF"
      },
      "execution_count": null,
      "outputs": []
    },
    {
      "cell_type": "code",
      "source": [
        "validloader = get_dataloader(valid_ds, configs, dataloader_type=\"valid\")\n",
        "validloader"
      ],
      "metadata": {
        "id": "0RgS85Rj-oHo"
      },
      "execution_count": null,
      "outputs": []
    },
    {
      "cell_type": "code",
      "source": [
        "def get_model(configs):\n",
        "    backbone = tf.keras.applications.mobilenet_v2.MobileNetV2(weights='imagenet', include_top=False)\n",
        "    backbone.trainable = False\n",
        "    inputs = layers.Input(shape=(configs[\"image_size\"], configs[\"image_size\"], configs[\"image_channels\"]))\n",
        "    resize = layers.Resizing(32, 32)(inputs)\n",
        "    neck = layers.Conv2D(3, (3,3), padding=\"same\")(resize)\n",
        "    preprocess_input = tf.keras.applications.mobilenet.preprocess_input(neck)\n",
        "    x = backbone(preprocess_input)\n",
        "    x = layers.GlobalAveragePooling2D()(x)\n",
        "    outputs = layers.Dense(configs[\"num_classes\"], activation=\"softmax\")(x)\n",
        "    return models.Model(inputs=inputs, outputs=outputs)"
      ],
      "metadata": {
        "id": "rvT2No1uk-br"
      },
      "execution_count": null,
      "outputs": []
    },
    {
      "cell_type": "code",
      "source": [
        "tf.keras.backend.clear_session()"
      ],
      "metadata": {
        "id": "on1BfHJsk-rT"
      },
      "execution_count": null,
      "outputs": []
    },
    {
      "cell_type": "code",
      "source": [
        "model = get_model(configs)\n",
        "model"
      ],
      "metadata": {
        "id": "eAaQcg10_JK5"
      },
      "execution_count": null,
      "outputs": []
    },
    {
      "cell_type": "code",
      "source": [
        "model.summary()"
      ],
      "metadata": {
        "id": "bxto4Fst_JNi"
      },
      "execution_count": null,
      "outputs": []
    },
    {
      "cell_type": "code",
      "source": [
        "model.compile(\n",
        "    optimizer = \"adam\",\n",
        "    loss = \"categorical_crossentropy\",\n",
        "    metrics = [\"accuracy\", tf.keras.metrics.TopKCategoricalAccuracy(k=5, name='top@5_accuracy')])"
      ],
      "metadata": {
        "id": "1XxjLJb4k-0b"
      },
      "execution_count": null,
      "outputs": []
    },
    {
      "cell_type": "code",
      "source": [
        "run = wandb.init(\n",
        "    project = \"intro-keras\",\n",
        "    config = configs)\n",
        "run"
      ],
      "metadata": {
        "id": "SoY6OU4vlLY0"
      },
      "execution_count": null,
      "outputs": []
    },
    {
      "cell_type": "code",
      "source": [
        "model.fit(\n",
        "    trainloader,\n",
        "    epochs = configs[\"epochs\"],\n",
        "    validation_data = validloader,\n",
        "    callbacks = [WandbMetricsLogger(log_freq=10)])"
      ],
      "metadata": {
        "id": "DSV7sAgE_XCa"
      },
      "execution_count": null,
      "outputs": []
    },
    {
      "cell_type": "code",
      "source": [
        "run.finish()"
      ],
      "metadata": {
        "id": "9LdTnSS6_XFN"
      },
      "execution_count": null,
      "outputs": []
    },
    {
      "cell_type": "markdown",
      "source": [
        "# XGBoost"
      ],
      "metadata": {
        "id": "e0m5PaUNj3ow"
      }
    },
    {
      "cell_type": "code",
      "source": [
        "!pip install -qq wandb>=0.13.10 dill\n",
        "!pip install -qq xgboost>=1.7.4 scikit-learn>=1.2.1"
      ],
      "metadata": {
        "id": "JIPEbgoqj6Cp"
      },
      "execution_count": null,
      "outputs": []
    },
    {
      "cell_type": "code",
      "source": [
        "import ast\n",
        "import wandb\n",
        "import sys\n",
        "import json\n",
        "from pathlib import Path\n",
        "from dill.source import getsource\n",
        "from dill import detect\n",
        "\n",
        "import pandas as pd\n",
        "import numpy as np\n",
        "import plotly\n",
        "import matplotlib.pyplot as plt\n",
        "\n",
        "from scipy.stats import ks_2samp\n",
        "from sklearn import metrics\n",
        "from sklearn import model_selection\n",
        "import xgboost as xgb\n",
        "from wandb.xgboost import WandbCallback\n",
        "\n",
        "pd.set_option(\"display.max_columns\", None)"
      ],
      "metadata": {
        "id": "Y5c_jSgblZqD"
      },
      "execution_count": null,
      "outputs": []
    },
    {
      "cell_type": "code",
      "source": [
        "run = wandb.init()\n",
        "run"
      ],
      "metadata": {
        "id": "yXaeIwf7lZ1l"
      },
      "execution_count": null,
      "outputs": []
    },
    {
      "cell_type": "code",
      "source": [
        "artifact = wandb.Artifact(\"mnist\", type=\"dataset\")\n",
        "artifact"
      ],
      "metadata": {
        "id": "HRyFX9Zwq6Dr"
      },
      "execution_count": null,
      "outputs": []
    },
    {
      "cell_type": "code",
      "source": [
        "artifact.add_reference(\"s3://my-bucket/datasets/mnist\")"
      ],
      "metadata": {
        "id": "9aMAuaQPq6GY"
      },
      "execution_count": null,
      "outputs": []
    },
    {
      "cell_type": "code",
      "source": [
        "run.log_artifact(artifact)"
      ],
      "metadata": {
        "id": "SO26ORgZq6JE"
      },
      "execution_count": null,
      "outputs": []
    },
    {
      "cell_type": "code",
      "source": [
        "artifact = run.use_artifact(\"mnist:latest\", type=\"dataset\")\n",
        "artifact"
      ],
      "metadata": {
        "id": "gke0Wio_lZ-7"
      },
      "execution_count": null,
      "outputs": []
    },
    {
      "cell_type": "code",
      "source": [
        "artifact_dir = artifact.download()\n",
        "artifact_dir"
      ],
      "metadata": {
        "id": "C0TYoCavrEOq"
      },
      "execution_count": null,
      "outputs": []
    },
    {
      "cell_type": "code",
      "source": [
        "wandb.login()"
      ],
      "metadata": {
        "id": "A4VFVvMRrHKC"
      },
      "execution_count": null,
      "outputs": []
    },
    {
      "cell_type": "code",
      "source": [
        "WANDB_PROJECT = \"vehicle_loan_default\"\n",
        "WANDB_PROJECT"
      ],
      "metadata": {
        "id": "hvvrpudTrHMz"
      },
      "execution_count": null,
      "outputs": []
    },
    {
      "cell_type": "code",
      "source": [
        "data_dir = Path(\".\")\n",
        "data_dir"
      ],
      "metadata": {
        "id": "MwIgKT2FrQ6C"
      },
      "execution_count": null,
      "outputs": []
    },
    {
      "cell_type": "code",
      "source": [
        "model_dir = Path(\"models\")\n",
        "model_dir"
      ],
      "metadata": {
        "id": "lZbAf5BcrQ8q"
      },
      "execution_count": null,
      "outputs": []
    },
    {
      "cell_type": "code",
      "source": [
        "model_dir.mkdir(exist_ok=True)"
      ],
      "metadata": {
        "id": "1YyErXyMrQ_5"
      },
      "execution_count": null,
      "outputs": []
    },
    {
      "cell_type": "code",
      "source": [
        "id_vars = [\"UniqueID\"]\n",
        "id_vars"
      ],
      "metadata": {
        "id": "__HjoeuTrToF"
      },
      "execution_count": null,
      "outputs": []
    },
    {
      "cell_type": "code",
      "source": [
        "targ_var = \"loan_default\"\n",
        "targ_var"
      ],
      "metadata": {
        "id": "YzIaPa7crTqf"
      },
      "execution_count": null,
      "outputs": []
    },
    {
      "cell_type": "code",
      "source": [
        "def function_to_string(fn):\n",
        "    return getsource(detect.code(fn))"
      ],
      "metadata": {
        "id": "sRGUUv0VlakH"
      },
      "execution_count": null,
      "outputs": []
    },
    {
      "cell_type": "code",
      "source": [
        "run = wandb.init(project=WANDB_PROJECT, job_type=\"preprocess-data\")\n",
        "run"
      ],
      "metadata": {
        "id": "qgm8uHqzlasr"
      },
      "execution_count": null,
      "outputs": []
    },
    {
      "cell_type": "code",
      "source": [
        "ARTIFACT_PATH = \"morgan/credit_scorecard/vehicle_loan_defaults:latest\"\n",
        "ARTIFACT_PATH"
      ],
      "metadata": {
        "id": "t0qPuWJcla2r"
      },
      "execution_count": null,
      "outputs": []
    },
    {
      "cell_type": "code",
      "source": [
        "dataset_art = run.use_artifact(ARTIFACT_PATH, type=\"dataset\")\n",
        "dataset_art"
      ],
      "metadata": {
        "id": "W8HrVyvnrf-F"
      },
      "execution_count": null,
      "outputs": []
    },
    {
      "cell_type": "code",
      "source": [
        "dataset_dir = dataset_art.download(data_dir)\n",
        "dataset_dir"
      ],
      "metadata": {
        "id": "nNasDq3orgA3"
      },
      "execution_count": null,
      "outputs": []
    },
    {
      "cell_type": "code",
      "source": [
        "from data_utils import (\n",
        "    describe_data_g_targ,\n",
        "    one_hot_encode_data,\n",
        "    load_training_data)"
      ],
      "metadata": {
        "id": "M2piFpH2lbAO"
      },
      "execution_count": null,
      "outputs": []
    },
    {
      "cell_type": "code",
      "source": [
        "dataset = pd.read_csv(data_dir / \"vehicle_loans_subset.csv\")\n",
        "dataset"
      ],
      "metadata": {
        "id": "mu4ulDUSlbI0"
      },
      "execution_count": null,
      "outputs": []
    },
    {
      "cell_type": "code",
      "source": [
        "dataset, p_vars = one_hot_encode_data(dataset, id_vars, targ_var)"
      ],
      "metadata": {
        "id": "BJuLICsSrn79"
      },
      "execution_count": null,
      "outputs": []
    },
    {
      "cell_type": "code",
      "source": [
        "dataset"
      ],
      "metadata": {
        "id": "LTiVwMmDrueN"
      },
      "execution_count": null,
      "outputs": []
    },
    {
      "cell_type": "code",
      "source": [
        "p_vars"
      ],
      "metadata": {
        "id": "D547GgqKruhp"
      },
      "execution_count": null,
      "outputs": []
    },
    {
      "cell_type": "code",
      "source": [
        "processed_data_path = data_dir / \"proc_ds.csv\"\n",
        "processed_data_path"
      ],
      "metadata": {
        "id": "V3Z8zAVQrn_H"
      },
      "execution_count": null,
      "outputs": []
    },
    {
      "cell_type": "code",
      "source": [
        "dataset.to_csv(processed_data_path, index=False)"
      ],
      "metadata": {
        "id": "FBe4dAgKrqbO"
      },
      "execution_count": null,
      "outputs": []
    },
    {
      "cell_type": "code",
      "source": [
        "processed_ds_art = wandb.Artifact(\n",
        "    name=\"vehicle_defaults_processed\",\n",
        "    type=\"processed_dataset\",\n",
        "    description=\"One-hot encoded dataset\",\n",
        "    metadata={\"preprocessing_fn\": function_to_string(one_hot_encode_data)})\n",
        "processed_ds_art"
      ],
      "metadata": {
        "id": "2sKAtgJUj6MR"
      },
      "execution_count": null,
      "outputs": []
    },
    {
      "cell_type": "code",
      "source": [
        "processed_ds_art.add_file(processed_data_path)"
      ],
      "metadata": {
        "id": "6LLq1vcar3fR"
      },
      "execution_count": null,
      "outputs": []
    },
    {
      "cell_type": "code",
      "source": [
        "run.log_artifact(processed_ds_art)"
      ],
      "metadata": {
        "id": "ffkfYLCpr3iJ"
      },
      "execution_count": null,
      "outputs": []
    },
    {
      "cell_type": "code",
      "source": [
        "run.finish()"
      ],
      "metadata": {
        "id": "cK-Aic5Fr4CF"
      },
      "execution_count": null,
      "outputs": []
    },
    {
      "cell_type": "code",
      "source": [
        "with wandb.init(project=WANDB_PROJECT, job_type=\"train-val-split\")\n",
        "    as run:\n",
        "    dataset_art = run.use_artifact(\"vehicle_defaults_processed:latest\", type=\"processed_dataset\")\n",
        "    dataset_dir = dataset_art.download(data_dir)\n",
        "    dataset = pd.read_csv(processed_data_path)\n",
        "    test_size = 0.25\n",
        "    random_state = 42\n",
        "    run.config.update({\"test_size\": test_size, \"random_state\": random_state})\n",
        "    trndat, valdat = model_selection.train_test_split(\n",
        "        dataset,\n",
        "        test_size=test_size,\n",
        "        random_state=random_state,\n",
        "        stratify=dataset[[targ_var]])\n",
        "    print(f\"Train dataset size: {trndat[targ_var].value_counts()} \\n\")\n",
        "    print(f\"Validation dataset sizeL {valdat[targ_var].value_counts()}\")\n",
        "    train_path = data_dir / \"train.csv\"\n",
        "    val_path = data_dir / \"val.csv\"\n",
        "    trndat.to_csv(train_path, index=False)\n",
        "    valdat.to_csv(val_path, index=False)\n",
        "    split_ds_art = wandb.Artifact(\n",
        "        name=\"vehicle_defaults_split\",\n",
        "        type=\"train-val-dataset\",\n",
        "        description=\"Processed dataset split into train and valiation\",\n",
        "        metadata={\"test_size\": test_size, \"random_state\": random_state})\n",
        "    split_ds_art.add_file(train_path)\n",
        "    split_ds_art.add_file(val_path)\n",
        "    run.log_artifact(split_ds_art)"
      ],
      "metadata": {
        "id": "KYfpA9roj6U5"
      },
      "execution_count": null,
      "outputs": []
    },
    {
      "cell_type": "code",
      "source": [
        "trndict = describe_data_g_targ(trndat, targ_var)\n",
        "trndict"
      ],
      "metadata": {
        "id": "4kdwXKTIsEUn"
      },
      "execution_count": null,
      "outputs": []
    },
    {
      "cell_type": "code",
      "source": [
        "trndat.head()"
      ],
      "metadata": {
        "id": "8NaCY6YasEXu"
      },
      "execution_count": null,
      "outputs": []
    },
    {
      "cell_type": "code",
      "source": [
        "run = wandb.init(project=WANDB_PROJECT, job_type=\"log-dataset\")\n",
        "run"
      ],
      "metadata": {
        "id": "P4pu0wXSsEak"
      },
      "execution_count": null,
      "outputs": []
    },
    {
      "cell_type": "code",
      "source": [
        "table = wandb.Table(dataframe=trndat.sample(1000))\n",
        "table"
      ],
      "metadata": {
        "id": "PTxEIQOpsEdD"
      },
      "execution_count": null,
      "outputs": []
    },
    {
      "cell_type": "code",
      "source": [
        "wandb.log({\"processed_dataset\": table})"
      ],
      "metadata": {
        "id": "FgaWiLdVsEfj"
      },
      "execution_count": null,
      "outputs": []
    },
    {
      "cell_type": "code",
      "source": [
        "wandb.finish()"
      ],
      "metadata": {
        "id": "ZpiRim5dsEh5"
      },
      "execution_count": null,
      "outputs": []
    },
    {
      "cell_type": "code",
      "source": [
        "trndat.head()"
      ],
      "metadata": {
        "id": "O3ad8UAPluhx"
      },
      "execution_count": null,
      "outputs": []
    },
    {
      "cell_type": "code",
      "source": [
        "\"tree_method\": \"gpu_hist\""
      ],
      "metadata": {
        "id": "awoMmElRlu1d"
      },
      "execution_count": null,
      "outputs": []
    },
    {
      "cell_type": "code",
      "source": [
        "run = wandb.init(project=WANDB_PROJECT, job_type=\"train-model\")\n",
        "run"
      ],
      "metadata": {
        "id": "AKv7jET7lvJk"
      },
      "execution_count": null,
      "outputs": []
    },
    {
      "cell_type": "code",
      "source": [
        "base_rate = round(trndict[\"base_rate\"], 6)\n",
        "base_rate"
      ],
      "metadata": {
        "id": "n-rYhPkalvTW"
      },
      "execution_count": null,
      "outputs": []
    },
    {
      "cell_type": "code",
      "source": [
        "early_stopping_rounds = 40\n",
        "early_stopping_rounds"
      ],
      "metadata": {
        "id": "-TqPF-zjs45z"
      },
      "execution_count": null,
      "outputs": []
    },
    {
      "cell_type": "code",
      "source": [
        "bst_params = {\n",
        "    \"objective\": \"binary:logistic\",\n",
        "    \"base_score\": base_rate,\n",
        "    \"gamma\": 1,  ## def: 0\n",
        "    \"learning_rate\": 0.1,  ## def: 0.1\n",
        "    \"max_depth\": 3,\n",
        "    \"min_child_weight\": 100,  ## def: 1\n",
        "    \"n_estimators\": 25,\n",
        "    \"nthread\": 24,\n",
        "    \"random_state\": 42,\n",
        "    \"reg_alpha\": 0,\n",
        "    \"reg_lambda\": 0,  ## def: 1\n",
        "    \"eval_metric\": [\"auc\", \"logloss\"],\n",
        "    \"tree_method\": \"hist\",  # use `gpu_hist` to train on GPU\n",
        "    }\n",
        "bst_params"
      ],
      "metadata": {
        "id": "nlK83mO6lvde"
      },
      "execution_count": null,
      "outputs": []
    },
    {
      "cell_type": "code",
      "source": [
        "run.config.update(dict(bst_params))"
      ],
      "metadata": {
        "id": "_pSYaGvglvnE"
      },
      "execution_count": null,
      "outputs": []
    },
    {
      "cell_type": "code",
      "source": [
        "run.config.update({\"early_stopping_rounds\": early_stopping_rounds})"
      ],
      "metadata": {
        "id": "3vj3nkjHtFb5"
      },
      "execution_count": null,
      "outputs": []
    },
    {
      "cell_type": "code",
      "source": [
        "trndat, valdat = load_training_data(run=run, data_dir=data_dir, artifact_name=\"vehicle_defaults_split:latest\")"
      ],
      "metadata": {
        "id": "de1eBy4jlvwW"
      },
      "execution_count": null,
      "outputs": []
    },
    {
      "cell_type": "code",
      "source": [
        "trndat"
      ],
      "metadata": {
        "id": "HmKGB0jytRMJ"
      },
      "execution_count": null,
      "outputs": []
    },
    {
      "cell_type": "code",
      "source": [
        "valdat"
      ],
      "metadata": {
        "id": "WucH41RrtRPH"
      },
      "execution_count": null,
      "outputs": []
    },
    {
      "cell_type": "code",
      "source": [
        "y_trn = trndat.loc[:, targ_var].astype(int)\n",
        "y_trn"
      ],
      "metadata": {
        "id": "bnW5r7wvtIQJ"
      },
      "execution_count": null,
      "outputs": []
    },
    {
      "cell_type": "code",
      "source": [
        "y_val = valdat.loc[:, targ_var].astype(int)\n",
        "y_val"
      ],
      "metadata": {
        "id": "eThgJZ0GtIS5"
      },
      "execution_count": null,
      "outputs": []
    },
    {
      "cell_type": "code",
      "source": [
        "xgbmodel = xgb.XGBClassifier(\n",
        "    **bst_params,\n",
        "    callbacks=[WandbCallback(log_model=True)],\n",
        "    early_stopping_rounds=run.config[\"early_stopping_rounds\"])\n",
        "xgbmodel"
      ],
      "metadata": {
        "id": "ywSQRWgUlv5l"
      },
      "execution_count": null,
      "outputs": []
    },
    {
      "cell_type": "code",
      "source": [
        "xgbmodel.fit(trndat[p_vars], y_trn, eval_set=[(valdat[p_vars], y_val)])"
      ],
      "metadata": {
        "id": "Th3XPJjstb_q"
      },
      "execution_count": null,
      "outputs": []
    },
    {
      "cell_type": "code",
      "source": [
        "bstr = xgbmodel.get_booster()\n",
        "bstr"
      ],
      "metadata": {
        "id": "cy2AISrnl7-3"
      },
      "execution_count": null,
      "outputs": []
    },
    {
      "cell_type": "code",
      "source": [
        "trnYpreds = xgbmodel.predict_proba(trndat[p_vars])[:, 1]\n",
        "trnYpreds"
      ],
      "metadata": {
        "id": "Uyv6gQf0tjWC"
      },
      "execution_count": null,
      "outputs": []
    },
    {
      "cell_type": "code",
      "source": [
        "valYpreds = xgbmodel.predict_proba(valdat[p_vars])[:, 1]\n",
        "valYpreds"
      ],
      "metadata": {
        "id": "I3X8EE4AtjZG"
      },
      "execution_count": null,
      "outputs": []
    },
    {
      "cell_type": "code",
      "source": [
        "false_positive_rate, true_positive_rate, thresholds = metrics.roc_curve(y_trn, trnYpreds)"
      ],
      "metadata": {
        "id": "qBDUHCVgtjeO"
      },
      "execution_count": null,
      "outputs": []
    },
    {
      "cell_type": "code",
      "source": [
        "false_positive_rate"
      ],
      "metadata": {
        "id": "YMoJdzMFuEii"
      },
      "execution_count": null,
      "outputs": []
    },
    {
      "cell_type": "code",
      "source": [
        "true_positive_rate"
      ],
      "metadata": {
        "id": "1HCjOUYfuEl0"
      },
      "execution_count": null,
      "outputs": []
    },
    {
      "cell_type": "code",
      "source": [
        "thresholds"
      ],
      "metadata": {
        "id": "Wf1h5gBsuEoM"
      },
      "execution_count": null,
      "outputs": []
    },
    {
      "cell_type": "code",
      "source": [
        "run.summary[\"train_ks_stat\"] = max(true_positive_rate - false_positive_rate)"
      ],
      "metadata": {
        "id": "eNrW6r2_tjky"
      },
      "execution_count": null,
      "outputs": []
    },
    {
      "cell_type": "code",
      "source": [
        "run.summary[\"train_auc\"] = metrics.auc(false_positive_rate, true_positive_rate)"
      ],
      "metadata": {
        "id": "p5J_3ZyDuDTr"
      },
      "execution_count": null,
      "outputs": []
    },
    {
      "cell_type": "code",
      "source": [
        "run.summary[\"train_log_loss\"] = -(y_trn * np.log(trnYpreds) + (1 - y_trn) * np.log(1 - trnYpreds)).sum() / len(y_trn)"
      ],
      "metadata": {
        "id": "KAaoxeJcuDW0"
      },
      "execution_count": null,
      "outputs": []
    },
    {
      "cell_type": "code",
      "source": [
        "ks_stat,ks_pval = ks_2samp(valYpreds[y_val == 1], valYpreds[y_val == 0])"
      ],
      "metadata": {
        "id": "wBPtD1xEuDZz"
      },
      "execution_count": null,
      "outputs": []
    },
    {
      "cell_type": "code",
      "source": [
        "ks_stat"
      ],
      "metadata": {
        "id": "oXOzK2KEuX0b"
      },
      "execution_count": null,
      "outputs": []
    },
    {
      "cell_type": "code",
      "source": [
        "ks_pval"
      ],
      "metadata": {
        "id": "_r0ypHqfuX3A"
      },
      "execution_count": null,
      "outputs": []
    },
    {
      "cell_type": "code",
      "source": [
        "run.summary[\"val_ks_2samp\"] = ks_stat"
      ],
      "metadata": {
        "id": "NEoiURK0uDcj"
      },
      "execution_count": null,
      "outputs": []
    },
    {
      "cell_type": "code",
      "source": [
        "run.summary[\"val_ks_pval\"] = ks_pval"
      ],
      "metadata": {
        "id": "QCzGJHDyuDfG"
      },
      "execution_count": null,
      "outputs": []
    },
    {
      "cell_type": "code",
      "source": [
        "run.summary[\"val_auc\"] = metrics.roc_auc_score(y_val, valYpreds)"
      ],
      "metadata": {
        "id": "-exBALAYuDiS"
      },
      "execution_count": null,
      "outputs": []
    },
    {
      "cell_type": "code",
      "source": [
        "run.summary[\"val_acc_0.5\"] = metrics.accuracy_score(y_val, np.where(valYpreds >= 0.5, 1, 0))"
      ],
      "metadata": {
        "id": "FhFEg7OUtjoC"
      },
      "execution_count": null,
      "outputs": []
    },
    {
      "cell_type": "code",
      "source": [
        "run.summary[\"val_log_loss\"] = -(y_val * np.log(valYpreds) + (1 - y_val) * np.log(1 - valYpreds)).sum() / len(y_val)"
      ],
      "metadata": {
        "id": "ztcfGkqKtj0K"
      },
      "execution_count": null,
      "outputs": []
    },
    {
      "cell_type": "code",
      "source": [
        "valYpreds_2d = np.array([1 - valYpreds, valYpreds])\n",
        "valYpreds_2d"
      ],
      "metadata": {
        "id": "_By9yMXdl8Je"
      },
      "execution_count": null,
      "outputs": []
    },
    {
      "cell_type": "code",
      "source": [
        "y_val_arr = y_val.values\n"
      ],
      "metadata": {
        "id": "NNZUAk4quq9r"
      },
      "execution_count": null,
      "outputs": []
    },
    {
      "cell_type": "code",
      "source": [
        "d = 0\n",
        "d"
      ],
      "metadata": {
        "id": "XRNXWJmDwEsj"
      },
      "execution_count": null,
      "outputs": []
    },
    {
      "cell_type": "code",
      "source": [
        "while len(valYpreds_2d.T) > 10000:\n",
        "    d += 1\n",
        "    valYpreds_2d = valYpreds_2d[::1, ::d]\n",
        "    y_val_arr = y_val_arr[::d]\n",
        "    run.log({\"ROC_Curve\": wandb.plot.roc_curve(\n",
        "            y_val_arr,\n",
        "            valYpreds_2d.T,\n",
        "            labels=[\"no_default\", \"loan_default\"],\n",
        "            classes_to_plot=[1])})"
      ],
      "metadata": {
        "id": "SkSIak1gwEvW"
      },
      "execution_count": null,
      "outputs": []
    },
    {
      "cell_type": "code",
      "source": [
        "run.finish()"
      ],
      "metadata": {
        "id": "r954UEVRwEyN"
      },
      "execution_count": null,
      "outputs": []
    },
    {
      "cell_type": "code",
      "source": [
        "sweep_config = {\"method\": \"random\",\n",
        "        \"parameters\": {\n",
        "        \"learning_rate\": {\"min\": 0.001, \"max\": 1.0},\n",
        "        \"gamma\": {\"min\": 0.001, \"max\": 1.0},\n",
        "        \"min_child_weight\": {\"min\": 1, \"max\": 150},\n",
        "        \"early_stopping_rounds\": {\"values\": [10, 20, 30, 40]},},}\n",
        "sweep_config"
      ],
      "metadata": {
        "id": "eg-ju_Q2l8eX"
      },
      "execution_count": null,
      "outputs": []
    },
    {
      "cell_type": "code",
      "source": [
        "sweep_id = wandb.sweep(sweep_config, project=WANDB_PROJECT)\n",
        "sweep_id"
      ],
      "metadata": {
        "id": "AAbvLXBFwWZd"
      },
      "execution_count": null,
      "outputs": []
    },
    {
      "cell_type": "code",
      "source": [
        "def train():\n",
        "    with wandb.init(job_type=\"sweep\") as run:\n",
        "        bst_params = {\n",
        "            \"objective\": \"binary:logistic\",\n",
        "            \"base_score\": base_rate,\n",
        "            \"gamma\": run.config[\"gamma\"],\n",
        "            \"learning_rate\": run.config[\"learning_rate\"],\n",
        "            \"max_depth\": 3,\n",
        "            \"min_child_weight\": run.config[\"min_child_weight\"],\n",
        "            \"n_estimators\": 25,\n",
        "            \"nthread\": 24,\n",
        "            \"random_state\": 42,\n",
        "            \"reg_alpha\": 0,\n",
        "            \"reg_lambda\": 0,  ## def: 1\n",
        "            \"eval_metric\": [\"auc\", \"logloss\"],\n",
        "            \"tree_method\": \"hist\",\n",
        "        }\n",
        "        xgbmodel = xgb.XGBClassifier(\n",
        "            **bst_params,\n",
        "            callbacks=[WandbCallback()],\n",
        "            early_stopping_rounds=run.config[\"early_stopping_rounds\"])\n",
        "        xgbmodel.fit(trndat[p_vars], y_trn, eval_set=[(valdat[p_vars], y_val)])\n",
        "        bstr = xgbmodel.get_booster()\n",
        "        run.summary[\"best_ntree_limit\"] = bstr.best_ntree_limit\n",
        "        trnYpreds = xgbmodel.predict_proba(trndat[p_vars])[:, 1]\n",
        "        valYpreds = xgbmodel.predict_proba(valdat[p_vars])[:, 1]\n",
        "        false_positive_rate, true_positive_rate, thresholds = metrics.roc_curve(\n",
        "            y_trn, trnYpreds)\n",
        "        run.summary[\"train_ks_stat\"] = max(true_positive_rate - false_positive_rate)\n",
        "        run.summary[\"train_auc\"] = metrics.auc(false_positive_rate, true_positive_rate)\n",
        "        run.summary[\"train_log_loss\"] = -(\n",
        "            y_trn * np.log(trnYpreds) + (1 - y_trn) * np.log(1 - trnYpreds)).sum() / len(y_trn)\n",
        "        ks_stat, ks_pval = ks_2samp(valYpreds[y_val == 1], valYpreds[y_val == 0])\n",
        "        run.summary[\"val_ks_2samp\"] = ks_stat\n",
        "        run.summary[\"val_ks_pval\"] = ks_pval\n",
        "        run.summary[\"val_auc\"] = metrics.roc_auc_score(y_val, valYpreds)\n",
        "        run.summary[\"val_acc_0.5\"] = metrics.accuracy_score(\n",
        "            y_val, np.where(valYpreds >= 0.5, 1, 0))\n",
        "        run.summary[\"val_log_loss\"] = -(\n",
        "            y_val * np.log(valYpreds) + (1 - y_val) * np.log(1 - valYpreds)).sum() / len(y_val)"
      ],
      "metadata": {
        "id": "DsaGT2Cgl8ol"
      },
      "execution_count": null,
      "outputs": []
    },
    {
      "cell_type": "code",
      "source": [
        "count = 10\n",
        "count"
      ],
      "metadata": {
        "id": "F4_SNo0fl8yG"
      },
      "execution_count": null,
      "outputs": []
    },
    {
      "cell_type": "code",
      "source": [
        "wandb.agent(sweep_id, function=train, count=count)"
      ],
      "metadata": {
        "id": "VRn7U0dCwvCf"
      },
      "execution_count": null,
      "outputs": []
    },
    {
      "cell_type": "markdown",
      "source": [
        "# LightGBM"
      ],
      "metadata": {
        "id": "wxVyIQElkVtz"
      }
    },
    {
      "cell_type": "code",
      "source": [
        "!pip install -Uq 'lightgbm>=3.3.1'"
      ],
      "metadata": {
        "id": "zQORiYUdkdFM"
      },
      "execution_count": null,
      "outputs": []
    },
    {
      "cell_type": "code",
      "source": [
        "import pandas as pd\n",
        "import lightgbm as lgb\n",
        "from sklearn.metrics import mean_squared_error"
      ],
      "metadata": {
        "id": "GLVlYuE2kdPp"
      },
      "execution_count": null,
      "outputs": []
    },
    {
      "cell_type": "code",
      "source": [
        "!pip install -qU wandb"
      ],
      "metadata": {
        "id": "btwzsNe1kdcJ"
      },
      "execution_count": null,
      "outputs": []
    },
    {
      "cell_type": "code",
      "source": [
        "import wandb\n",
        "from wandb.lightgbm import wandb_callback, log_summary\n",
        "\n"
      ],
      "metadata": {
        "id": "CarPimogkdk6"
      },
      "execution_count": null,
      "outputs": []
    },
    {
      "cell_type": "code",
      "source": [
        "wandb.login()"
      ],
      "metadata": {
        "id": "d5-VVPy1w2UX"
      },
      "execution_count": null,
      "outputs": []
    },
    {
      "cell_type": "code",
      "source": [
        "!wget https://raw.githubusercontent.com/microsoft/LightGBM/master/examples/regression/regression.train -qq\n",
        "!wget https://raw.githubusercontent.com/microsoft/LightGBM/master/examples/regression/regression.test -qq"
      ],
      "metadata": {
        "id": "zDqKCtiCkdva"
      },
      "execution_count": null,
      "outputs": []
    },
    {
      "cell_type": "code",
      "source": [
        "df_train = pd.read_csv(\"regression.train\", header=None, sep=\"\\t\")\n",
        "df_train"
      ],
      "metadata": {
        "id": "Oz2iSa7CkV7s"
      },
      "execution_count": null,
      "outputs": []
    },
    {
      "cell_type": "code",
      "source": [
        "df_test = pd.read_csv(\"regression.test\", header=None, sep=\"\\t\")\n",
        "df_test"
      ],
      "metadata": {
        "id": "xnVTU0VLw58D"
      },
      "execution_count": null,
      "outputs": []
    },
    {
      "cell_type": "code",
      "source": [
        "y_train = df_train[0]\n",
        "y_train"
      ],
      "metadata": {
        "id": "K0003zysw5-0"
      },
      "execution_count": null,
      "outputs": []
    },
    {
      "cell_type": "code",
      "source": [
        "y_test = df_test[0]\n",
        "y_test"
      ],
      "metadata": {
        "id": "1vF0clAWxIjP"
      },
      "execution_count": null,
      "outputs": []
    },
    {
      "cell_type": "code",
      "source": [
        "X_train = df_train.drop(0, axis=1)\n",
        "X_train"
      ],
      "metadata": {
        "id": "T-v5zaV5xImF"
      },
      "execution_count": null,
      "outputs": []
    },
    {
      "cell_type": "code",
      "source": [
        "X_test = df_test.drop(0, axis=1)\n",
        "X_test"
      ],
      "metadata": {
        "id": "lx9ue-LIxIoj"
      },
      "execution_count": null,
      "outputs": []
    },
    {
      "cell_type": "code",
      "source": [
        "lgb_train = lgb.Dataset(X_train, y_train)\n",
        "lgb_train"
      ],
      "metadata": {
        "id": "hV217e6yxJD5"
      },
      "execution_count": null,
      "outputs": []
    },
    {
      "cell_type": "code",
      "source": [
        "lgb_eval = lgb.Dataset(X_test, y_test, reference=lgb_train)\n",
        "lgb_eval"
      ],
      "metadata": {
        "id": "kdgoSJOtxJGa"
      },
      "execution_count": null,
      "outputs": []
    },
    {
      "cell_type": "code",
      "source": [
        "params = {\n",
        "    \"boosting_type\": \"gbdt\",\n",
        "    \"objective\": \"regression\",\n",
        "    \"metric\": [\"rmse\", \"l2\", \"l1\", \"huber\"],\n",
        "    \"num_leaves\": 31,\n",
        "    \"learning_rate\": 0.05,\n",
        "    \"feature_fraction\": 0.9,\n",
        "    \"bagging_fraction\": 0.8,\n",
        "    \"bagging_freq\": 5,\n",
        "    \"verbosity\": 0}\n",
        "params"
      ],
      "metadata": {
        "id": "C6ObIAGcmX2u"
      },
      "execution_count": null,
      "outputs": []
    },
    {
      "cell_type": "code",
      "source": [
        "wandb.init(project=\"my-lightgbm-project\", config=params)"
      ],
      "metadata": {
        "id": "SNHTOwtbxWK9"
      },
      "execution_count": null,
      "outputs": []
    },
    {
      "cell_type": "code",
      "source": [
        "gbm = lgb.train(\n",
        "    params,\n",
        "    lgb_train,\n",
        "    num_boost_round=30,\n",
        "    valid_sets=lgb_eval,\n",
        "    valid_names=(\"validation\"),\n",
        "    callbacks=[wandb_callback()],\n",
        "    early_stopping_rounds=5)\n",
        "gbm"
      ],
      "metadata": {
        "id": "w3tbno1xmYA7"
      },
      "execution_count": null,
      "outputs": []
    },
    {
      "cell_type": "code",
      "source": [
        "log_summary(gbm, save_model_checkpoint=True)"
      ],
      "metadata": {
        "id": "ZKR8YsPamYKl"
      },
      "execution_count": null,
      "outputs": []
    },
    {
      "cell_type": "code",
      "source": [
        "y_pred = gbm.predict(X_test, num_iteration=gbm.best_iteration)\n",
        "y_pred"
      ],
      "metadata": {
        "id": "auWlqR3imYUN"
      },
      "execution_count": null,
      "outputs": []
    },
    {
      "cell_type": "code",
      "source": [
        "print(\"The rmse of prediction is:\", mean_squared_error(y_test, y_pred) ** 0.5)"
      ],
      "metadata": {
        "id": "8N-wYp-Dxq0Y"
      },
      "execution_count": null,
      "outputs": []
    },
    {
      "cell_type": "code",
      "source": [
        "wandb.log({\"rmse_prediction\": mean_squared_error(y_test, y_pred) ** 0.5})"
      ],
      "metadata": {
        "id": "gxWxszBsxq3Z"
      },
      "execution_count": null,
      "outputs": []
    },
    {
      "cell_type": "code",
      "source": [
        "wandb.finish()"
      ],
      "metadata": {
        "id": "uffaZW3hmYdl"
      },
      "execution_count": null,
      "outputs": []
    }
  ]
}