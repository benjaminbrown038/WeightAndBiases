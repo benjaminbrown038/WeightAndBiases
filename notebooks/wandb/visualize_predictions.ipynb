{
  "nbformat": 4,
  "nbformat_minor": 0,
  "metadata": {
    "colab": {
      "provenance": [],
      "authorship_tag": "ABX9TyNXdJPW0mVsjDInA/EJ4NAl",
      "include_colab_link": true
    },
    "kernelspec": {
      "name": "python3",
      "display_name": "Python 3"
    },
    "language_info": {
      "name": "python"
    },
    "widgets": {
      "application/vnd.jupyter.widget-state+json": {
        "2590a2152cde4568b26c75541e5a4a70": {
          "model_module": "@jupyter-widgets/controls",
          "model_name": "VBoxModel",
          "model_module_version": "1.5.0",
          "state": {
            "_dom_classes": [],
            "_model_module": "@jupyter-widgets/controls",
            "_model_module_version": "1.5.0",
            "_model_name": "VBoxModel",
            "_view_count": null,
            "_view_module": "@jupyter-widgets/controls",
            "_view_module_version": "1.5.0",
            "_view_name": "VBoxView",
            "box_style": "",
            "children": [
              "IPY_MODEL_9ec8b314ca664c7daef6699bf88fa02c",
              "IPY_MODEL_a61c37bae3e84cf09f98e2d84b062378"
            ],
            "layout": "IPY_MODEL_c01ec1bf4f254ca0991ac705b9ff4288"
          }
        },
        "9ec8b314ca664c7daef6699bf88fa02c": {
          "model_module": "@jupyter-widgets/controls",
          "model_name": "LabelModel",
          "model_module_version": "1.5.0",
          "state": {
            "_dom_classes": [],
            "_model_module": "@jupyter-widgets/controls",
            "_model_module_version": "1.5.0",
            "_model_name": "LabelModel",
            "_view_count": null,
            "_view_module": "@jupyter-widgets/controls",
            "_view_module_version": "1.5.0",
            "_view_name": "LabelView",
            "description": "",
            "description_tooltip": null,
            "layout": "IPY_MODEL_9928a45fdfc34fbf85678798a288a516",
            "placeholder": "​",
            "style": "IPY_MODEL_98f226ab1cbf4111a749433aaa48ad8e",
            "value": "0.308 MB of 0.308 MB uploaded\r"
          }
        },
        "a61c37bae3e84cf09f98e2d84b062378": {
          "model_module": "@jupyter-widgets/controls",
          "model_name": "FloatProgressModel",
          "model_module_version": "1.5.0",
          "state": {
            "_dom_classes": [],
            "_model_module": "@jupyter-widgets/controls",
            "_model_module_version": "1.5.0",
            "_model_name": "FloatProgressModel",
            "_view_count": null,
            "_view_module": "@jupyter-widgets/controls",
            "_view_module_version": "1.5.0",
            "_view_name": "ProgressView",
            "bar_style": "",
            "description": "",
            "description_tooltip": null,
            "layout": "IPY_MODEL_176ea978b9ce4218ab2598a6d33e1c3d",
            "max": 1,
            "min": 0,
            "orientation": "horizontal",
            "style": "IPY_MODEL_f2c1e293f8f1446689a78ae5e8f89ace",
            "value": 1
          }
        },
        "c01ec1bf4f254ca0991ac705b9ff4288": {
          "model_module": "@jupyter-widgets/base",
          "model_name": "LayoutModel",
          "model_module_version": "1.2.0",
          "state": {
            "_model_module": "@jupyter-widgets/base",
            "_model_module_version": "1.2.0",
            "_model_name": "LayoutModel",
            "_view_count": null,
            "_view_module": "@jupyter-widgets/base",
            "_view_module_version": "1.2.0",
            "_view_name": "LayoutView",
            "align_content": null,
            "align_items": null,
            "align_self": null,
            "border": null,
            "bottom": null,
            "display": null,
            "flex": null,
            "flex_flow": null,
            "grid_area": null,
            "grid_auto_columns": null,
            "grid_auto_flow": null,
            "grid_auto_rows": null,
            "grid_column": null,
            "grid_gap": null,
            "grid_row": null,
            "grid_template_areas": null,
            "grid_template_columns": null,
            "grid_template_rows": null,
            "height": null,
            "justify_content": null,
            "justify_items": null,
            "left": null,
            "margin": null,
            "max_height": null,
            "max_width": null,
            "min_height": null,
            "min_width": null,
            "object_fit": null,
            "object_position": null,
            "order": null,
            "overflow": null,
            "overflow_x": null,
            "overflow_y": null,
            "padding": null,
            "right": null,
            "top": null,
            "visibility": null,
            "width": null
          }
        },
        "9928a45fdfc34fbf85678798a288a516": {
          "model_module": "@jupyter-widgets/base",
          "model_name": "LayoutModel",
          "model_module_version": "1.2.0",
          "state": {
            "_model_module": "@jupyter-widgets/base",
            "_model_module_version": "1.2.0",
            "_model_name": "LayoutModel",
            "_view_count": null,
            "_view_module": "@jupyter-widgets/base",
            "_view_module_version": "1.2.0",
            "_view_name": "LayoutView",
            "align_content": null,
            "align_items": null,
            "align_self": null,
            "border": null,
            "bottom": null,
            "display": null,
            "flex": null,
            "flex_flow": null,
            "grid_area": null,
            "grid_auto_columns": null,
            "grid_auto_flow": null,
            "grid_auto_rows": null,
            "grid_column": null,
            "grid_gap": null,
            "grid_row": null,
            "grid_template_areas": null,
            "grid_template_columns": null,
            "grid_template_rows": null,
            "height": null,
            "justify_content": null,
            "justify_items": null,
            "left": null,
            "margin": null,
            "max_height": null,
            "max_width": null,
            "min_height": null,
            "min_width": null,
            "object_fit": null,
            "object_position": null,
            "order": null,
            "overflow": null,
            "overflow_x": null,
            "overflow_y": null,
            "padding": null,
            "right": null,
            "top": null,
            "visibility": null,
            "width": null
          }
        },
        "98f226ab1cbf4111a749433aaa48ad8e": {
          "model_module": "@jupyter-widgets/controls",
          "model_name": "DescriptionStyleModel",
          "model_module_version": "1.5.0",
          "state": {
            "_model_module": "@jupyter-widgets/controls",
            "_model_module_version": "1.5.0",
            "_model_name": "DescriptionStyleModel",
            "_view_count": null,
            "_view_module": "@jupyter-widgets/base",
            "_view_module_version": "1.2.0",
            "_view_name": "StyleView",
            "description_width": ""
          }
        },
        "176ea978b9ce4218ab2598a6d33e1c3d": {
          "model_module": "@jupyter-widgets/base",
          "model_name": "LayoutModel",
          "model_module_version": "1.2.0",
          "state": {
            "_model_module": "@jupyter-widgets/base",
            "_model_module_version": "1.2.0",
            "_model_name": "LayoutModel",
            "_view_count": null,
            "_view_module": "@jupyter-widgets/base",
            "_view_module_version": "1.2.0",
            "_view_name": "LayoutView",
            "align_content": null,
            "align_items": null,
            "align_self": null,
            "border": null,
            "bottom": null,
            "display": null,
            "flex": null,
            "flex_flow": null,
            "grid_area": null,
            "grid_auto_columns": null,
            "grid_auto_flow": null,
            "grid_auto_rows": null,
            "grid_column": null,
            "grid_gap": null,
            "grid_row": null,
            "grid_template_areas": null,
            "grid_template_columns": null,
            "grid_template_rows": null,
            "height": null,
            "justify_content": null,
            "justify_items": null,
            "left": null,
            "margin": null,
            "max_height": null,
            "max_width": null,
            "min_height": null,
            "min_width": null,
            "object_fit": null,
            "object_position": null,
            "order": null,
            "overflow": null,
            "overflow_x": null,
            "overflow_y": null,
            "padding": null,
            "right": null,
            "top": null,
            "visibility": null,
            "width": null
          }
        },
        "f2c1e293f8f1446689a78ae5e8f89ace": {
          "model_module": "@jupyter-widgets/controls",
          "model_name": "ProgressStyleModel",
          "model_module_version": "1.5.0",
          "state": {
            "_model_module": "@jupyter-widgets/controls",
            "_model_module_version": "1.5.0",
            "_model_name": "ProgressStyleModel",
            "_view_count": null,
            "_view_module": "@jupyter-widgets/base",
            "_view_module_version": "1.2.0",
            "_view_name": "StyleView",
            "bar_color": null,
            "description_width": ""
          }
        }
      }
    }
  },
  "cells": [
    {
      "cell_type": "markdown",
      "metadata": {
        "id": "view-in-github",
        "colab_type": "text"
      },
      "source": [
        "<a href=\"https://colab.research.google.com/github/benjaminbrown038/WeightAndBiases/blob/main/notebooks/wandb/visualize_predictions.ipynb\" target=\"_parent\"><img src=\"https://colab.research.google.com/assets/colab-badge.svg\" alt=\"Open In Colab\"/></a>"
      ]
    },
    {
      "cell_type": "markdown",
      "source": [
        "# Visualize Predictions With Pytorch"
      ],
      "metadata": {
        "id": "YN7fuARlhuOj"
      }
    },
    {
      "cell_type": "markdown",
      "source": [
        "#### Imports"
      ],
      "metadata": {
        "id": "JiTJCKsHiLQ9"
      }
    },
    {
      "cell_type": "code",
      "source": [
        "%%capture\n",
        "!pip3 install wandb -qqq\n",
        "import wandb\n",
        "import torch\n",
        "import torch.nn as nn\n",
        "import torchvision\n",
        "import torchvision.transforms as T\n",
        "import torch.nn.functional as F\n",
        "wandb.login()"
      ],
      "metadata": {
        "colab": {
          "base_uri": "https://localhost:8080/"
        },
        "id": "H-6KczoMhuba",
        "outputId": "ab9af5a4-a4f8-4555-c8f0-9056eecdd1bc"
      },
      "execution_count": null,
      "outputs": [
        {
          "output_type": "stream",
          "name": "stdout",
          "text": [
            "\u001b[2K     \u001b[90m━━━━━━━━━━━━━━━━━━━━━━━━━━━━━━━━━━━━━━━━\u001b[0m \u001b[32m2.1/2.1 MB\u001b[0m \u001b[31m19.7 MB/s\u001b[0m eta \u001b[36m0:00:00\u001b[0m\n",
            "\u001b[2K     \u001b[90m━━━━━━━━━━━━━━━━━━━━━━━━━━━━━━━━━━━━━━━━\u001b[0m \u001b[32m190.6/190.6 kB\u001b[0m \u001b[31m8.2 MB/s\u001b[0m eta \u001b[36m0:00:00\u001b[0m\n",
            "\u001b[2K     \u001b[90m━━━━━━━━━━━━━━━━━━━━━━━━━━━━━━━━━━━━━━━━\u001b[0m \u001b[32m252.8/252.8 kB\u001b[0m \u001b[31m20.5 MB/s\u001b[0m eta \u001b[36m0:00:00\u001b[0m\n",
            "\u001b[2K     \u001b[90m━━━━━━━━━━━━━━━━━━━━━━━━━━━━━━━━━━━━━━━━\u001b[0m \u001b[32m62.7/62.7 kB\u001b[0m \u001b[31m6.3 MB/s\u001b[0m eta \u001b[36m0:00:00\u001b[0m\n",
            "\u001b[?25h"
          ]
        }
      ]
    },
    {
      "cell_type": "markdown",
      "source": [
        "#### Project Name"
      ],
      "metadata": {
        "id": "oz5aZRSRjs2N"
      }
    },
    {
      "cell_type": "code",
      "source": [
        "WANDB_PROJECT = \"mnist-viz\""
      ],
      "metadata": {
        "id": "qzJR2zr8h0sT"
      },
      "execution_count": null,
      "outputs": []
    },
    {
      "cell_type": "code",
      "source": [
        "device = \"cuda:0\" if torch.cuda.is_available() else \"cpu\""
      ],
      "metadata": {
        "id": "kbDm0tX2jxA6"
      },
      "execution_count": null,
      "outputs": []
    },
    {
      "cell_type": "markdown",
      "source": [
        "#### Dataloader"
      ],
      "metadata": {
        "id": "iToTR1YEkBI3"
      }
    },
    {
      "cell_type": "code",
      "source": [
        "def get_dataloader(is_train, batch_size, slice=5):\n",
        "    \"Get a training dataloader\"\n",
        "    ds = torchvision.datasets.MNIST(root=\".\", train=is_train, transform=T.ToTensor(), download=True)\n",
        "    loader = torch.utils.data.DataLoader(dataset=ds,batch_size=batch_size,shuffle=True if is_train else False,pin_memory=True, num_workers=2)\n",
        "    return loader"
      ],
      "metadata": {
        "id": "LPrzxToxh0vt"
      },
      "execution_count": null,
      "outputs": []
    },
    {
      "cell_type": "markdown",
      "source": [
        "#### Hyperparameters"
      ],
      "metadata": {
        "id": "WHK-XLl1kC3m"
      }
    },
    {
      "cell_type": "code",
      "source": [
        "EPOCHS = 1\n",
        "NUM_BATCHES_TO_LOG = 10\n",
        "NUM_IMAGES_PER_BATCH = 32\n",
        "NUM_CLASSES = 10\n",
        "BATCH_SIZE = 32\n",
        "LEARNING_RATE = 0.001\n",
        "L1_SIZE = 32\n",
        "L2_SIZE = 64\n",
        "CONV_KERNEL_SIZE = 5"
      ],
      "metadata": {
        "id": "fdgQSCWKiaQ6"
      },
      "execution_count": null,
      "outputs": []
    },
    {
      "cell_type": "markdown",
      "source": [
        "#### Model"
      ],
      "metadata": {
        "id": "riB8g3TukFkP"
      }
    },
    {
      "cell_type": "code",
      "source": [
        "class ConvNet(nn.Module):\n",
        "    def __init__(self, num_classes=10):\n",
        "        super(ConvNet, self).__init__()\n",
        "        self.layer1 = nn.Sequential(\n",
        "            nn.Conv2d(1, L1_SIZE, CONV_KERNEL_SIZE, stride=1, padding=2),\n",
        "            nn.BatchNorm2d(L1_SIZE),\n",
        "            nn.ReLU(),\n",
        "            nn.MaxPool2d(kernel_size=2, stride=2))\n",
        "        self.layer2 = nn.Sequential(\n",
        "            nn.Conv2d(L1_SIZE, L2_SIZE, CONV_KERNEL_SIZE, stride=1, padding=2),\n",
        "            nn.BatchNorm2d(L2_SIZE),\n",
        "            nn.ReLU(),\n",
        "            nn.MaxPool2d(kernel_size=2, stride=2))\n",
        "        self.fc = nn.Linear(7*7*L2_SIZE, NUM_CLASSES)\n",
        "        self.softmax = nn.Softmax(NUM_CLASSES)\n",
        "    def forward(self, x):\n",
        "        out = self.layer1(x)\n",
        "        out = self.layer2(out)\n",
        "        out = out.reshape(out.size(0), -1)\n",
        "        out = self.fc(out)\n",
        "        return out"
      ],
      "metadata": {
        "colab": {
          "base_uri": "https://localhost:8080/"
        },
        "id": "rDOY3Vmgh0yr",
        "outputId": "68548faa-bfc9-4cae-a9f3-7b1c7f1525f4"
      },
      "execution_count": null,
      "outputs": [
        {
          "output_type": "stream",
          "name": "stdout",
          "text": [
            "Downloading http://yann.lecun.com/exdb/mnist/train-images-idx3-ubyte.gz\n",
            "Downloading http://yann.lecun.com/exdb/mnist/train-images-idx3-ubyte.gz to ./MNIST/raw/train-images-idx3-ubyte.gz\n"
          ]
        },
        {
          "output_type": "stream",
          "name": "stderr",
          "text": [
            "100%|██████████| 9912422/9912422 [00:00<00:00, 78924689.66it/s]\n"
          ]
        },
        {
          "output_type": "stream",
          "name": "stdout",
          "text": [
            "Extracting ./MNIST/raw/train-images-idx3-ubyte.gz to ./MNIST/raw\n",
            "\n",
            "Downloading http://yann.lecun.com/exdb/mnist/train-labels-idx1-ubyte.gz\n",
            "Downloading http://yann.lecun.com/exdb/mnist/train-labels-idx1-ubyte.gz to ./MNIST/raw/train-labels-idx1-ubyte.gz\n"
          ]
        },
        {
          "output_type": "stream",
          "name": "stderr",
          "text": [
            "100%|██████████| 28881/28881 [00:00<00:00, 72929376.17it/s]\n"
          ]
        },
        {
          "output_type": "stream",
          "name": "stdout",
          "text": [
            "Extracting ./MNIST/raw/train-labels-idx1-ubyte.gz to ./MNIST/raw\n",
            "\n",
            "Downloading http://yann.lecun.com/exdb/mnist/t10k-images-idx3-ubyte.gz\n",
            "Downloading http://yann.lecun.com/exdb/mnist/t10k-images-idx3-ubyte.gz to ./MNIST/raw/t10k-images-idx3-ubyte.gz\n"
          ]
        },
        {
          "output_type": "stream",
          "name": "stderr",
          "text": [
            "100%|██████████| 1648877/1648877 [00:00<00:00, 22430524.27it/s]\n"
          ]
        },
        {
          "output_type": "stream",
          "name": "stdout",
          "text": [
            "Extracting ./MNIST/raw/t10k-images-idx3-ubyte.gz to ./MNIST/raw\n",
            "\n",
            "Downloading http://yann.lecun.com/exdb/mnist/t10k-labels-idx1-ubyte.gz\n",
            "Downloading http://yann.lecun.com/exdb/mnist/t10k-labels-idx1-ubyte.gz to ./MNIST/raw/t10k-labels-idx1-ubyte.gz\n"
          ]
        },
        {
          "output_type": "stream",
          "name": "stderr",
          "text": [
            "100%|██████████| 4542/4542 [00:00<00:00, 4178663.91it/s]"
          ]
        },
        {
          "output_type": "stream",
          "name": "stdout",
          "text": [
            "Extracting ./MNIST/raw/t10k-labels-idx1-ubyte.gz to ./MNIST/raw\n",
            "\n"
          ]
        },
        {
          "output_type": "stream",
          "name": "stderr",
          "text": [
            "\n"
          ]
        }
      ]
    },
    {
      "cell_type": "markdown",
      "source": [
        "#### Model"
      ],
      "metadata": {
        "id": "CA0bGg3zkILk"
      }
    },
    {
      "cell_type": "code",
      "source": [
        "train_loader = get_dataloader(is_train=True, batch_size=BATCH_SIZE)\n",
        "test_loader = get_dataloader(is_train=False, batch_size=2*BATCH_SIZE)\n",
        "device = torch.device(\"cuda:0\" if torch.cuda.is_available() else \"cpu\")"
      ],
      "metadata": {
        "id": "rlTYYOg3ier5"
      },
      "execution_count": null,
      "outputs": []
    },
    {
      "cell_type": "markdown",
      "source": [
        "#### Hyperparameters"
      ],
      "metadata": {
        "id": "WUYfG5p7kJps"
      }
    },
    {
      "cell_type": "code",
      "source": [
        "EPOCHS = 1\n",
        "NUM_BATCHES_TO_LOG = 10\n",
        "NUM_IMAGES_PER_BATCH = 32\n",
        "NUM_CLASSES = 10\n",
        "BATCH_SIZE = 32\n",
        "LEARNING_RATE = 0.001\n",
        "L1_SIZE = 32\n",
        "L2_SIZE = 64\n",
        "CONV_KERNEL_SIZE = 5"
      ],
      "metadata": {
        "id": "k5h2tDfRis4d"
      },
      "execution_count": null,
      "outputs": []
    },
    {
      "cell_type": "markdown",
      "source": [
        "#### Model"
      ],
      "metadata": {
        "id": "spXaw4vNkMD2"
      }
    },
    {
      "cell_type": "code",
      "source": [
        "class ConvNet(nn.Module):\n",
        "    def __init__(self, num_classes=10):\n",
        "        super(ConvNet, self).__init__()\n",
        "        self.layer1 = nn.Sequential(\n",
        "            nn.Conv2d(1, L1_SIZE, CONV_KERNEL_SIZE, stride=1, padding=2),\n",
        "            nn.BatchNorm2d(L1_SIZE),\n",
        "            nn.ReLU(),\n",
        "            nn.MaxPool2d(kernel_size=2, stride=2))\n",
        "        self.layer2 = nn.Sequential(\n",
        "            nn.Conv2d(L1_SIZE, L2_SIZE, CONV_KERNEL_SIZE, stride=1, padding=2),\n",
        "            nn.BatchNorm2d(L2_SIZE),\n",
        "            nn.ReLU(),\n",
        "            nn.MaxPool2d(kernel_size=2, stride=2))\n",
        "        self.fc = nn.Linear(7*7*L2_SIZE, NUM_CLASSES)\n",
        "        self.softmax = nn.Softmax(NUM_CLASSES)\n",
        "    def forward(self, x):\n",
        "        out = self.layer1(x)\n",
        "        out = self.layer2(out)\n",
        "        out = out.reshape(out.size(0), -1)\n",
        "        out = self.fc(out)\n",
        "        return out"
      ],
      "metadata": {
        "id": "UlXopTtJh01s"
      },
      "execution_count": null,
      "outputs": []
    },
    {
      "cell_type": "markdown",
      "source": [
        "### Data"
      ],
      "metadata": {
        "id": "GjhdIRZZkN8c"
      }
    },
    {
      "cell_type": "markdown",
      "source": [
        "#### Training Data"
      ],
      "metadata": {
        "id": "aj82D6BJkiTg"
      }
    },
    {
      "cell_type": "code",
      "source": [
        "train_loader = get_dataloader(is_train=True, batch_size=BATCH_SIZE)\n",
        "train_loader"
      ],
      "metadata": {
        "id": "TqpZswsukid3"
      },
      "execution_count": null,
      "outputs": []
    },
    {
      "cell_type": "markdown",
      "source": [
        "#### Testing Data"
      ],
      "metadata": {
        "id": "sdp3Wjh3kiz_"
      }
    },
    {
      "cell_type": "code",
      "source": [
        "test_loader = get_dataloader(is_train=False, batch_size=2*BATCH_SIZE)\n",
        "test_loader"
      ],
      "metadata": {
        "id": "KxS5WbVGki66"
      },
      "execution_count": null,
      "outputs": []
    },
    {
      "cell_type": "markdown",
      "source": [
        "#### Device"
      ],
      "metadata": {
        "id": "8I2KaEp2kjDH"
      }
    },
    {
      "cell_type": "code",
      "source": [
        "device = torch.device(\"cuda:0\" if torch.cuda.is_available() else \"cpu\")\n",
        "device"
      ],
      "metadata": {
        "id": "FEI0kWYZiwt7"
      },
      "execution_count": null,
      "outputs": []
    },
    {
      "cell_type": "markdown",
      "source": [
        "#### Initialize Project"
      ],
      "metadata": {
        "id": "sKB1-ZeTkQ-G"
      }
    },
    {
      "cell_type": "code",
      "source": [
        "wandb.init(project=\"table-quickstart\")"
      ],
      "metadata": {
        "id": "QNOTvgkajNQR"
      },
      "execution_count": null,
      "outputs": []
    },
    {
      "cell_type": "markdown",
      "source": [
        "#### Configure Run"
      ],
      "metadata": {
        "id": "oRwMj9bfkUZ_"
      }
    },
    {
      "cell_type": "code",
      "source": [
        "cfg = wandb.config\n",
        "cfg"
      ],
      "metadata": {
        "id": "SqPUH6ECkUgn"
      },
      "execution_count": null,
      "outputs": []
    },
    {
      "cell_type": "markdown",
      "source": [
        "#### Configure Update"
      ],
      "metadata": {
        "id": "mizAuFCSkUmO"
      }
    },
    {
      "cell_type": "code",
      "source": [
        "cfg.update({\"epochs\" : EPOCHS, \"batch_size\": BATCH_SIZE, \"lr\" : LEARNING_RATE,\n",
        "            \"l1_size\" : L1_SIZE, \"l2_size\": L2_SIZE,\n",
        "            \"conv_kernel\" : CONV_KERNEL_SIZE,\n",
        "            \"img_count\" : min(10000, NUM_IMAGES_PER_BATCH*NUM_BATCHES_TO_LOG)})"
      ],
      "metadata": {
        "id": "QAzttNuckUtm"
      },
      "execution_count": null,
      "outputs": []
    },
    {
      "cell_type": "markdown",
      "source": [
        "#### Model"
      ],
      "metadata": {
        "id": "5hlBwUZZkUzG"
      }
    },
    {
      "cell_type": "code",
      "source": [
        "model = ConvNet(NUM_CLASSES).to(device)\n",
        "model"
      ],
      "metadata": {
        "id": "mEUGOsHGkU6-"
      },
      "execution_count": null,
      "outputs": []
    },
    {
      "cell_type": "markdown",
      "source": [
        "#### Criterion (Loss)"
      ],
      "metadata": {
        "id": "x5bJ1VqkkaPu"
      }
    },
    {
      "cell_type": "code",
      "source": [
        "criterion = nn.CrossEntropyLoss()\n",
        "criterion"
      ],
      "metadata": {
        "id": "2VK-ya2lkaV3"
      },
      "execution_count": null,
      "outputs": []
    },
    {
      "cell_type": "markdown",
      "source": [],
      "metadata": {
        "id": "NTyP2Gw_kad_"
      }
    },
    {
      "cell_type": "code",
      "source": [
        "optimizer = torch.optim.Adam(model.parameters(), lr=LEARNING_RATE)\n",
        "optimizer"
      ],
      "metadata": {
        "id": "uEP2TxmWkal-"
      },
      "execution_count": null,
      "outputs": []
    },
    {
      "cell_type": "code",
      "source": [
        "def log_test_predictions(images, labels, outputs, predicted, test_table, log_counter):\n",
        "    scores = F.softmax(outputs.data, dim=1)\n",
        "    log_scores = scores.cpu().numpy()\n",
        "    log_images = images.cpu().numpy()\n",
        "    log_labels = labels.cpu().numpy()\n",
        "    log_preds = predicted.cpu().numpy()\n",
        "    _id = 0\n",
        "    for i, l, p, s in zip(log_images, log_labels, log_preds, log_scores):\n",
        "        img_id = str(_id) + \"_\" + str(log_counter)\n",
        "        test_table.add_data(img_id, wandb.Image(i), p, l, *s)\n",
        "        _id += 1\n",
        "        if _id == NUM_IMAGES_PER_BATCH:\n",
        "        break\n",
        "total_step = len(train_loader)\n",
        "for epoch in range(EPOCHS):\n",
        "    for i, (images, labels) in enumerate(train_loader):\n",
        "        images = images.to(device)\n",
        "        labels = labels.to(device)\n",
        "        outputs = model(images)\n",
        "        loss = criterion(outputs, labels)\n",
        "        optimizer.zero_grad()\n",
        "        loss.backward()\n",
        "        optimizer.step()\n",
        "        wandb.log({\"loss\" : loss})\n",
        "        if (i+1) % 100 == 0:\n",
        "            print ('Epoch [{}/{}], Step [{}/{}], Loss: {:.4f}'.format(epoch+1, EPOCHS, i+1, total_step, loss.item()))\n",
        "    columns=[\"id\", \"image\", \"guess\", \"truth\"]\n",
        "    for digit in range(10):\n",
        "        columns.append(\"score_\" + str(digit))\n",
        "    test_table = wandb.Table(columns=columns)\n",
        "    model.eval()\n",
        "    log_counter = 0\n",
        "    with torch.no_grad():\n",
        "        correct = 0\n",
        "        total = 0\n",
        "        for images, labels in test_loader:\n",
        "            images = images.to(device)\n",
        "            labels = labels.to(device)\n",
        "            outputs = model(images)\n",
        "            _, predicted = torch.max(outputs.data, 1)\n",
        "            if log_counter < NUM_BATCHES_TO_LOG:\n",
        "                log_test_predictions(images, labels, outputs, predicted, test_table, log_counter)\n",
        "                log_counter += 1\n",
        "            total += labels.size(0)\n",
        "            correct += (predicted == labels).sum().item()\n",
        "        acc = 100 * correct / total\n",
        "        wandb.log({\"epoch\" : epoch, \"acc\" : acc})\n",
        "        print('Test Accuracy of the model on the 10000 test images: {} %'.format(acc))\n",
        "    wandb.log({\"test_predictions\" : test_table})\n",
        "wandb.finish()"
      ],
      "metadata": {
        "colab": {
          "base_uri": "https://localhost:8080/",
          "height": 665,
          "referenced_widgets": [
            "2590a2152cde4568b26c75541e5a4a70",
            "9ec8b314ca664c7daef6699bf88fa02c",
            "a61c37bae3e84cf09f98e2d84b062378",
            "c01ec1bf4f254ca0991ac705b9ff4288",
            "9928a45fdfc34fbf85678798a288a516",
            "98f226ab1cbf4111a749433aaa48ad8e",
            "176ea978b9ce4218ab2598a6d33e1c3d",
            "f2c1e293f8f1446689a78ae5e8f89ace"
          ]
        },
        "id": "en8xDLBthu1a",
        "outputId": "24e56a3c-01d1-4a5a-cbbf-0a0ba82ee0c0"
      },
      "execution_count": null,
      "outputs": [
        {
          "output_type": "stream",
          "name": "stderr",
          "text": [
            "\u001b[34m\u001b[1mwandb\u001b[0m: Currently logged in as: \u001b[33mbkb20053\u001b[0m. Use \u001b[1m`wandb login --relogin`\u001b[0m to force relogin\n"
          ]
        },
        {
          "output_type": "display_data",
          "data": {
            "text/plain": [
              "<IPython.core.display.HTML object>"
            ],
            "text/html": [
              "Tracking run with wandb version 0.16.1"
            ]
          },
          "metadata": {}
        },
        {
          "output_type": "display_data",
          "data": {
            "text/plain": [
              "<IPython.core.display.HTML object>"
            ],
            "text/html": [
              "Run data is saved locally in <code>/content/wandb/run-20231208_222439-ock4cdfd</code>"
            ]
          },
          "metadata": {}
        },
        {
          "output_type": "display_data",
          "data": {
            "text/plain": [
              "<IPython.core.display.HTML object>"
            ],
            "text/html": [
              "Syncing run <strong><a href='https://wandb.ai/bkb20053/table-quickstart/runs/ock4cdfd' target=\"_blank\">faithful-monkey-1</a></strong> to <a href='https://wandb.ai/bkb20053/table-quickstart' target=\"_blank\">Weights & Biases</a> (<a href='https://wandb.me/run' target=\"_blank\">docs</a>)<br/>"
            ]
          },
          "metadata": {}
        },
        {
          "output_type": "display_data",
          "data": {
            "text/plain": [
              "<IPython.core.display.HTML object>"
            ],
            "text/html": [
              " View project at <a href='https://wandb.ai/bkb20053/table-quickstart' target=\"_blank\">https://wandb.ai/bkb20053/table-quickstart</a>"
            ]
          },
          "metadata": {}
        },
        {
          "output_type": "display_data",
          "data": {
            "text/plain": [
              "<IPython.core.display.HTML object>"
            ],
            "text/html": [
              " View run at <a href='https://wandb.ai/bkb20053/table-quickstart/runs/ock4cdfd' target=\"_blank\">https://wandb.ai/bkb20053/table-quickstart/runs/ock4cdfd</a>"
            ]
          },
          "metadata": {}
        },
        {
          "output_type": "stream",
          "name": "stdout",
          "text": [
            "Epoch [1/1], Step [100/1875], Loss: 0.3033\n",
            "Epoch [1/1], Step [200/1875], Loss: 0.0538\n",
            "Epoch [1/1], Step [300/1875], Loss: 0.2059\n",
            "Epoch [1/1], Step [400/1875], Loss: 0.0908\n",
            "Epoch [1/1], Step [500/1875], Loss: 0.2653\n",
            "Epoch [1/1], Step [600/1875], Loss: 0.2116\n",
            "Epoch [1/1], Step [700/1875], Loss: 0.2680\n",
            "Epoch [1/1], Step [800/1875], Loss: 0.0584\n",
            "Epoch [1/1], Step [900/1875], Loss: 0.0627\n",
            "Epoch [1/1], Step [1000/1875], Loss: 0.0132\n",
            "Epoch [1/1], Step [1100/1875], Loss: 0.0065\n",
            "Epoch [1/1], Step [1200/1875], Loss: 0.0300\n",
            "Epoch [1/1], Step [1300/1875], Loss: 0.0367\n",
            "Epoch [1/1], Step [1400/1875], Loss: 0.0603\n",
            "Epoch [1/1], Step [1500/1875], Loss: 0.0154\n",
            "Epoch [1/1], Step [1600/1875], Loss: 0.0793\n",
            "Epoch [1/1], Step [1700/1875], Loss: 0.0055\n",
            "Epoch [1/1], Step [1800/1875], Loss: 0.0052\n",
            "Test Accuracy of the model on the 10000 test images: 98.53 %\n"
          ]
        },
        {
          "output_type": "display_data",
          "data": {
            "text/plain": [
              "VBox(children=(Label(value='0.297 MB of 0.297 MB uploaded\\r'), FloatProgress(value=1.0, max=1.0)))"
            ],
            "application/vnd.jupyter.widget-view+json": {
              "version_major": 2,
              "version_minor": 0,
              "model_id": "2590a2152cde4568b26c75541e5a4a70"
            }
          },
          "metadata": {}
        },
        {
          "output_type": "display_data",
          "data": {
            "text/plain": [
              "<IPython.core.display.HTML object>"
            ],
            "text/html": [
              "<style>\n",
              "    table.wandb td:nth-child(1) { padding: 0 10px; text-align: left ; width: auto;} td:nth-child(2) {text-align: left ; width: 100%}\n",
              "    .wandb-row { display: flex; flex-direction: row; flex-wrap: wrap; justify-content: flex-start; width: 100% }\n",
              "    .wandb-col { display: flex; flex-direction: column; flex-basis: 100%; flex: 1; padding: 10px; }\n",
              "    </style>\n",
              "<div class=\"wandb-row\"><div class=\"wandb-col\"><h3>Run history:</h3><br/><table class=\"wandb\"><tr><td>acc</td><td>▁</td></tr><tr><td>epoch</td><td>▁</td></tr><tr><td>loss</td><td>█▄▄▂▁▂▃▂▁▂▁▁▁▂▂▁▁▁▁▁▁▁▃▁▂▁▂▁▁▁▁▁▁▁▁▁▃▁▁▁</td></tr></table><br/></div><div class=\"wandb-col\"><h3>Run summary:</h3><br/><table class=\"wandb\"><tr><td>acc</td><td>98.53</td></tr><tr><td>epoch</td><td>0</td></tr><tr><td>loss</td><td>0.00155</td></tr></table><br/></div></div>"
            ]
          },
          "metadata": {}
        },
        {
          "output_type": "display_data",
          "data": {
            "text/plain": [
              "<IPython.core.display.HTML object>"
            ],
            "text/html": [
              " View run <strong style=\"color:#cdcd00\">faithful-monkey-1</strong> at: <a href='https://wandb.ai/bkb20053/table-quickstart/runs/ock4cdfd' target=\"_blank\">https://wandb.ai/bkb20053/table-quickstart/runs/ock4cdfd</a><br/>Synced 5 W&B file(s), 1 media file(s), 321 artifact file(s) and 0 other file(s)"
            ]
          },
          "metadata": {}
        },
        {
          "output_type": "display_data",
          "data": {
            "text/plain": [
              "<IPython.core.display.HTML object>"
            ],
            "text/html": [
              "Find logs at: <code>./wandb/run-20231208_222439-ock4cdfd/logs</code>"
            ]
          },
          "metadata": {}
        }
      ]
    }
  ]
}