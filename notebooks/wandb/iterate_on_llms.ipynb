{
  "nbformat": 4,
  "nbformat_minor": 0,
  "metadata": {
    "colab": {
      "provenance": [],
      "authorship_tag": "ABX9TyO/uP2nSsSThh2DmtZ7PD8g",
      "include_colab_link": true
    },
    "kernelspec": {
      "name": "python3",
      "display_name": "Python 3"
    },
    "language_info": {
      "name": "python"
    }
  },
  "cells": [
    {
      "cell_type": "markdown",
      "metadata": {
        "id": "view-in-github",
        "colab_type": "text"
      },
      "source": [
        "<a href=\"https://colab.research.google.com/github/benjaminbrown038/WeightAndBiases/blob/main/notebooks/wandb/iterate_on_llms.ipynb\" target=\"_parent\"><img src=\"https://colab.research.google.com/assets/colab-badge.svg\" alt=\"Open In Colab\"/></a>"
      ]
    },
    {
      "cell_type": "markdown",
      "source": [],
      "metadata": {
        "id": "pC-tyFtfpj2i"
      }
    },
    {
      "cell_type": "markdown",
      "source": [],
      "metadata": {
        "id": "z-amvN34pj5z"
      }
    },
    {
      "cell_type": "code",
      "source": [
        "!pip install \"wandb==0.15.2\" -qqq\n",
        "!pip install \"langchain==v0.0.158\" openai -qqq"
      ],
      "metadata": {
        "id": "SJDalXnjpkCh"
      },
      "execution_count": null,
      "outputs": []
    },
    {
      "cell_type": "code",
      "source": [
        "import os\n",
        "from getpass import getpass\n",
        "\n",
        "if os.getenv(\"OPENAI_API_KEY\") is None:\n",
        "  os.environ[\"OPENAI_API_KEY\"] = getpass(\"Paste your OpenAI key from: https://platform.openai.com/account/api-keys\\n\")\n",
        "assert os.getenv(\"OPENAI_API_KEY\", \"\").startswith(\"sk-\"), \"This doesn't look like a valid OpenAI API key\"\n",
        "print(\"OpenAI API key configured\")"
      ],
      "metadata": {
        "id": "BQpLdtIppkGC"
      },
      "execution_count": null,
      "outputs": []
    },
    {
      "cell_type": "code",
      "source": [
        "from wandb.integration.langchain import WandbTracer\n",
        "\n",
        "wandb_config = {\"project\": \"wandb_prompts_quickstart\"}"
      ],
      "metadata": {
        "id": "XFuAJq0NpkIx"
      },
      "execution_count": null,
      "outputs": []
    },
    {
      "cell_type": "code",
      "source": [
        "from langchain.agents import load_tools\n",
        "from langchain.agents import initialize_agent\n",
        "from langchain.agents import AgentType\n",
        "from langchain.llms import OpenAI"
      ],
      "metadata": {
        "id": "_sF9o8hypkOR"
      },
      "execution_count": null,
      "outputs": []
    },
    {
      "cell_type": "code",
      "source": [
        "llm = OpenAI(temperature=0)\n",
        "tools = load_tools([\"llm-math\"], llm=llm)\n",
        "agent = initialize_agent(\n",
        "  tools, llm, agent=AgentType.ZERO_SHOT_REACT_DESCRIPTION)"
      ],
      "metadata": {
        "id": "pgJfK7FSpkRB"
      },
      "execution_count": null,
      "outputs": []
    },
    {
      "cell_type": "code",
      "source": [
        "questions = [\n",
        "    \"Find the square root of 5.4.\",\n",
        "    \"What is 3 divided by 7.34 raised to the power of pi?\",\n",
        "    \"What is the sin of 0.47 radians, divided by the cube root of 27?\",\n",
        "    \"what is 1 divided by zero\"\n",
        "]\n",
        "for question in questions:\n",
        "  try:\n",
        "    answer = agent.run(question, callbacks=[WandbTracer(wandb_config)])\n",
        "    print(answer)\n",
        "  except Exception as e:\n",
        "    print(e)\n",
        "    pass"
      ],
      "metadata": {
        "id": "JHXAtPQQpkUC"
      },
      "execution_count": null,
      "outputs": []
    },
    {
      "cell_type": "code",
      "source": [
        "WandbTracer.finish()"
      ],
      "metadata": {
        "id": "qU1e6KaFpkXB"
      },
      "execution_count": null,
      "outputs": []
    },
    {
      "cell_type": "code",
      "source": [
        "from wandb.sdk.data_types import trace_tree\n",
        "import wandb"
      ],
      "metadata": {
        "id": "_EPgD69_ptxj"
      },
      "execution_count": null,
      "outputs": []
    },
    {
      "cell_type": "code",
      "source": [
        "parent_span = trace_tree.Span(\n",
        "  name=\"Example Span\",\n",
        "  span_kind = trace_tree.SpanKind.AGEN\n",
        ")"
      ],
      "metadata": {
        "id": "pMqxo4ikpt0s"
      },
      "execution_count": null,
      "outputs": []
    },
    {
      "cell_type": "code",
      "source": [
        "# Create a span for a call to a Tool\n",
        "tool_span = trace_tree.Span(\n",
        "  name=\"Tool 1\",\n",
        "  span_kind = trace_tree.SpanKind.TOOL\n",
        ")\n",
        "\n",
        "# Create a span for a call to a LLM Chain\n",
        "chain_span = trace_tree.Span(\n",
        "  name=\"LLM CHAIN 1\",\n",
        "  span_kind = trace_tree.SpanKind.CHAIN\n",
        ")\n",
        "\n",
        "# Create a span for a call to a LLM that is called by the LLM Chain\n",
        "llm_span = trace_tree.Span(\n",
        "  name=\"LLM 1\",\n",
        "  span_kind = trace_tree.SpanKind.LLM\n",
        ")\n",
        "chain_span.add_child_span(llm_span)"
      ],
      "metadata": {
        "id": "_tpWzvDrpt3a"
      },
      "execution_count": null,
      "outputs": []
    },
    {
      "cell_type": "code",
      "source": [
        "tool_span.add_named_result(\n",
        "  {\"input\": \"search: google founded in year\"},\n",
        "  {\"response\": \"1998\"}\n",
        ")\n",
        "chain_span.add_named_result(\n",
        "  {\"input\": \"calculate: 2023 - 1998\"},\n",
        "  {\"response\": \"25\"}\n",
        ")\n",
        "llm_span.add_named_result(\n",
        "  {\"input\": \"calculate: 2023 - 1998\", \"system\": \"you are a helpful assistant\", },\n",
        "  {\"response\": \"25\", \"tokens_used\":218}\n",
        ")\n",
        "\n",
        "parent_span.add_child_span(tool_span)\n",
        "parent_span.add_child_span(chain_span)\n",
        "\n",
        "parent_span.add_named_result({\"user\": \"calculate: 2023 - 1998\"},\n",
        "                             {\"response\": \"25 years old\"})"
      ],
      "metadata": {
        "id": "VqRqxx-Fpt6R"
      },
      "execution_count": null,
      "outputs": []
    },
    {
      "cell_type": "code",
      "source": [
        "run = wandb.init(name=\"manual_span_demo\", project=\"wandb_prompts_demo\")\n",
        "run.log({\"trace\": trace_tree.WBTraceTree(parent_span)})\n",
        "run.finish()"
      ],
      "metadata": {
        "id": "UdmBXiH6pt9D"
      },
      "execution_count": null,
      "outputs": []
    },
    {
      "cell_type": "code",
      "source": [],
      "metadata": {
        "id": "UkBV8dn8pt_r"
      },
      "execution_count": null,
      "outputs": []
    },
    {
      "cell_type": "code",
      "source": [],
      "metadata": {
        "id": "BWefs8AfpuCj"
      },
      "execution_count": null,
      "outputs": []
    },
    {
      "cell_type": "code",
      "source": [],
      "metadata": {
        "id": "txQOSmo_pkaD"
      },
      "execution_count": null,
      "outputs": []
    }
  ]
}